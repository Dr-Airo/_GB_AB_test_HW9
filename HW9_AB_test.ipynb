{
 "cells": [
  {
   "cell_type": "code",
   "execution_count": 3,
   "id": "b7124883",
   "metadata": {},
   "outputs": [],
   "source": [
    "import pandas as pd\n",
    "import numpy as np\n",
    "\n",
    "from scipy import stats\n",
    "from statsmodels.stats import proportion\n",
    "from statsmodels.stats.power import tt_ind_solve_power, zt_ind_solve_power\n",
    "\n",
    "from math import asin\n",
    "import plotly.graph_objects as go\n",
    "import plotly.express as px\n",
    "from tqdm import tqdm_notebook"
   ]
  },
  {
   "cell_type": "code",
   "execution_count": 4,
   "id": "87dbbeeb",
   "metadata": {},
   "outputs": [
    {
     "data": {
      "text/html": [
       "<div>\n",
       "<style scoped>\n",
       "    .dataframe tbody tr th:only-of-type {\n",
       "        vertical-align: middle;\n",
       "    }\n",
       "\n",
       "    .dataframe tbody tr th {\n",
       "        vertical-align: top;\n",
       "    }\n",
       "\n",
       "    .dataframe thead th {\n",
       "        text-align: right;\n",
       "    }\n",
       "</style>\n",
       "<table border=\"1\" class=\"dataframe\">\n",
       "  <thead>\n",
       "    <tr style=\"text-align: right;\">\n",
       "      <th></th>\n",
       "      <th>userid</th>\n",
       "      <th>version</th>\n",
       "      <th>sum_gamerounds</th>\n",
       "      <th>retention_1</th>\n",
       "      <th>retention_7</th>\n",
       "    </tr>\n",
       "  </thead>\n",
       "  <tbody>\n",
       "    <tr>\n",
       "      <th>0</th>\n",
       "      <td>116</td>\n",
       "      <td>gate_30</td>\n",
       "      <td>3</td>\n",
       "      <td>0</td>\n",
       "      <td>0</td>\n",
       "    </tr>\n",
       "    <tr>\n",
       "      <th>1</th>\n",
       "      <td>337</td>\n",
       "      <td>gate_30</td>\n",
       "      <td>38</td>\n",
       "      <td>1</td>\n",
       "      <td>0</td>\n",
       "    </tr>\n",
       "    <tr>\n",
       "      <th>2</th>\n",
       "      <td>377</td>\n",
       "      <td>gate_40</td>\n",
       "      <td>165</td>\n",
       "      <td>1</td>\n",
       "      <td>0</td>\n",
       "    </tr>\n",
       "    <tr>\n",
       "      <th>3</th>\n",
       "      <td>483</td>\n",
       "      <td>gate_40</td>\n",
       "      <td>1</td>\n",
       "      <td>0</td>\n",
       "      <td>0</td>\n",
       "    </tr>\n",
       "    <tr>\n",
       "      <th>4</th>\n",
       "      <td>488</td>\n",
       "      <td>gate_40</td>\n",
       "      <td>179</td>\n",
       "      <td>1</td>\n",
       "      <td>1</td>\n",
       "    </tr>\n",
       "    <tr>\n",
       "      <th>...</th>\n",
       "      <td>...</td>\n",
       "      <td>...</td>\n",
       "      <td>...</td>\n",
       "      <td>...</td>\n",
       "      <td>...</td>\n",
       "    </tr>\n",
       "    <tr>\n",
       "      <th>90184</th>\n",
       "      <td>9999441</td>\n",
       "      <td>gate_40</td>\n",
       "      <td>97</td>\n",
       "      <td>1</td>\n",
       "      <td>0</td>\n",
       "    </tr>\n",
       "    <tr>\n",
       "      <th>90185</th>\n",
       "      <td>9999479</td>\n",
       "      <td>gate_40</td>\n",
       "      <td>30</td>\n",
       "      <td>0</td>\n",
       "      <td>0</td>\n",
       "    </tr>\n",
       "    <tr>\n",
       "      <th>90186</th>\n",
       "      <td>9999710</td>\n",
       "      <td>gate_30</td>\n",
       "      <td>28</td>\n",
       "      <td>1</td>\n",
       "      <td>0</td>\n",
       "    </tr>\n",
       "    <tr>\n",
       "      <th>90187</th>\n",
       "      <td>9999768</td>\n",
       "      <td>gate_40</td>\n",
       "      <td>51</td>\n",
       "      <td>1</td>\n",
       "      <td>0</td>\n",
       "    </tr>\n",
       "    <tr>\n",
       "      <th>90188</th>\n",
       "      <td>9999861</td>\n",
       "      <td>gate_40</td>\n",
       "      <td>16</td>\n",
       "      <td>0</td>\n",
       "      <td>0</td>\n",
       "    </tr>\n",
       "  </tbody>\n",
       "</table>\n",
       "<p>90189 rows × 5 columns</p>\n",
       "</div>"
      ],
      "text/plain": [
       "        userid  version  sum_gamerounds  retention_1  retention_7\n",
       "0          116  gate_30               3            0            0\n",
       "1          337  gate_30              38            1            0\n",
       "2          377  gate_40             165            1            0\n",
       "3          483  gate_40               1            0            0\n",
       "4          488  gate_40             179            1            1\n",
       "...        ...      ...             ...          ...          ...\n",
       "90184  9999441  gate_40              97            1            0\n",
       "90185  9999479  gate_40              30            0            0\n",
       "90186  9999710  gate_30              28            1            0\n",
       "90187  9999768  gate_40              51            1            0\n",
       "90188  9999861  gate_40              16            0            0\n",
       "\n",
       "[90189 rows x 5 columns]"
      ]
     },
     "execution_count": 4,
     "metadata": {},
     "output_type": "execute_result"
    }
   ],
   "source": [
    "df = pd.read_csv ('А_B_csv.csv')\n",
    "df"
   ]
  },
  {
   "cell_type": "markdown",
   "id": "70b07a24",
   "metadata": {},
   "source": [
    "### Я так понимаю, что 'retention_1' и 'retention_7' - это время удержания (день/неделя)"
   ]
  },
  {
   "cell_type": "code",
   "execution_count": 5,
   "id": "7a26824f",
   "metadata": {
    "scrolled": true
   },
   "outputs": [
    {
     "name": "stdout",
     "output_type": "stream",
     "text": [
      "<class 'pandas.core.frame.DataFrame'>\n",
      "RangeIndex: 90189 entries, 0 to 90188\n",
      "Data columns (total 5 columns):\n",
      " #   Column          Non-Null Count  Dtype \n",
      "---  ------          --------------  ----- \n",
      " 0   userid          90189 non-null  int64 \n",
      " 1   version         90189 non-null  object\n",
      " 2   sum_gamerounds  90189 non-null  int64 \n",
      " 3   retention_1     90189 non-null  int64 \n",
      " 4   retention_7     90189 non-null  int64 \n",
      "dtypes: int64(4), object(1)\n",
      "memory usage: 3.4+ MB\n"
     ]
    }
   ],
   "source": [
    "df.info()"
   ]
  },
  {
   "cell_type": "markdown",
   "id": "99e435f8",
   "metadata": {},
   "source": [
    "### Пропусков нет, 1 объектовая колонка, остальные целочисленные"
   ]
  },
  {
   "cell_type": "code",
   "execution_count": 6,
   "id": "c96b6181",
   "metadata": {},
   "outputs": [
    {
     "data": {
      "text/html": [
       "<div>\n",
       "<style scoped>\n",
       "    .dataframe tbody tr th:only-of-type {\n",
       "        vertical-align: middle;\n",
       "    }\n",
       "\n",
       "    .dataframe tbody tr th {\n",
       "        vertical-align: top;\n",
       "    }\n",
       "\n",
       "    .dataframe thead th {\n",
       "        text-align: right;\n",
       "    }\n",
       "</style>\n",
       "<table border=\"1\" class=\"dataframe\">\n",
       "  <thead>\n",
       "    <tr style=\"text-align: right;\">\n",
       "      <th></th>\n",
       "      <th>userid</th>\n",
       "      <th>sum_gamerounds</th>\n",
       "      <th>retention_1</th>\n",
       "      <th>retention_7</th>\n",
       "    </tr>\n",
       "  </thead>\n",
       "  <tbody>\n",
       "    <tr>\n",
       "      <th>count</th>\n",
       "      <td>9.018900e+04</td>\n",
       "      <td>90189.000000</td>\n",
       "      <td>90189.000000</td>\n",
       "      <td>90189.000000</td>\n",
       "    </tr>\n",
       "    <tr>\n",
       "      <th>mean</th>\n",
       "      <td>4.998412e+06</td>\n",
       "      <td>51.872457</td>\n",
       "      <td>0.445210</td>\n",
       "      <td>0.186065</td>\n",
       "    </tr>\n",
       "    <tr>\n",
       "      <th>std</th>\n",
       "      <td>2.883286e+06</td>\n",
       "      <td>195.050858</td>\n",
       "      <td>0.496992</td>\n",
       "      <td>0.389161</td>\n",
       "    </tr>\n",
       "    <tr>\n",
       "      <th>min</th>\n",
       "      <td>1.160000e+02</td>\n",
       "      <td>0.000000</td>\n",
       "      <td>0.000000</td>\n",
       "      <td>0.000000</td>\n",
       "    </tr>\n",
       "    <tr>\n",
       "      <th>25%</th>\n",
       "      <td>2.512230e+06</td>\n",
       "      <td>5.000000</td>\n",
       "      <td>0.000000</td>\n",
       "      <td>0.000000</td>\n",
       "    </tr>\n",
       "    <tr>\n",
       "      <th>50%</th>\n",
       "      <td>4.995815e+06</td>\n",
       "      <td>16.000000</td>\n",
       "      <td>0.000000</td>\n",
       "      <td>0.000000</td>\n",
       "    </tr>\n",
       "    <tr>\n",
       "      <th>75%</th>\n",
       "      <td>7.496452e+06</td>\n",
       "      <td>51.000000</td>\n",
       "      <td>1.000000</td>\n",
       "      <td>0.000000</td>\n",
       "    </tr>\n",
       "    <tr>\n",
       "      <th>max</th>\n",
       "      <td>9.999861e+06</td>\n",
       "      <td>49854.000000</td>\n",
       "      <td>1.000000</td>\n",
       "      <td>1.000000</td>\n",
       "    </tr>\n",
       "  </tbody>\n",
       "</table>\n",
       "</div>"
      ],
      "text/plain": [
       "             userid  sum_gamerounds   retention_1   retention_7\n",
       "count  9.018900e+04    90189.000000  90189.000000  90189.000000\n",
       "mean   4.998412e+06       51.872457      0.445210      0.186065\n",
       "std    2.883286e+06      195.050858      0.496992      0.389161\n",
       "min    1.160000e+02        0.000000      0.000000      0.000000\n",
       "25%    2.512230e+06        5.000000      0.000000      0.000000\n",
       "50%    4.995815e+06       16.000000      0.000000      0.000000\n",
       "75%    7.496452e+06       51.000000      1.000000      0.000000\n",
       "max    9.999861e+06    49854.000000      1.000000      1.000000"
      ]
     },
     "execution_count": 6,
     "metadata": {},
     "output_type": "execute_result"
    }
   ],
   "source": [
    "df.describe()"
   ]
  },
  {
   "cell_type": "code",
   "execution_count": 7,
   "id": "c9c21cc6",
   "metadata": {
    "scrolled": true
   },
   "outputs": [
    {
     "data": {
      "text/plain": [
       "116        1\n",
       "6632278    1\n",
       "6658202    1\n",
       "6658194    1\n",
       "6658134    1\n",
       "          ..\n",
       "3347358    1\n",
       "3347337    1\n",
       "3346992    1\n",
       "3346979    1\n",
       "9999861    1\n",
       "Name: userid, Length: 90189, dtype: int64"
      ]
     },
     "execution_count": 7,
     "metadata": {},
     "output_type": "execute_result"
    }
   ],
   "source": [
    "df.userid.value_counts()"
   ]
  },
  {
   "cell_type": "code",
   "execution_count": 8,
   "id": "379633fa",
   "metadata": {},
   "outputs": [],
   "source": [
    "control = df[df['version'] == 'gate_30']\n",
    "test = df[df['version'] == 'gate_40']"
   ]
  },
  {
   "cell_type": "code",
   "execution_count": 9,
   "id": "afbc96fd",
   "metadata": {
    "scrolled": false
   },
   "outputs": [
    {
     "data": {
      "text/plain": [
       "((44700, 5), (45489, 5))"
      ]
     },
     "execution_count": 9,
     "metadata": {},
     "output_type": "execute_result"
    }
   ],
   "source": [
    "control.shape, test.shape"
   ]
  },
  {
   "cell_type": "code",
   "execution_count": 10,
   "id": "22bce312",
   "metadata": {},
   "outputs": [],
   "source": [
    "fig = go.Figure()\n",
    "fig.add_trace(go.Histogram(x=control.sum_gamerounds, name='control',))\n",
    "fig.add_trace(go.Histogram(x=test.sum_gamerounds, name='test',))\n",
    "\n",
    "# Overlay both histograms\n",
    "fig.update_layout(barmode='overlay')\n",
    "# Reduce opacity to see both histograms\n",
    "fig.update_traces(opacity=0.5)\n",
    "fig.show()"
   ]
  },
  {
   "cell_type": "code",
   "execution_count": 11,
   "id": "96add3e0",
   "metadata": {},
   "outputs": [
    {
     "name": "stderr",
     "output_type": "stream",
     "text": [
      "[distfit] >INFO> fit\n",
      "[distfit] >INFO> transform\n",
      "[distfit] >INFO> [norm      ] [0.00 sec] [RSS: 0.00669022] [loc=51.299 scale=103.293]\n",
      "[distfit] >INFO> [expon     ] [0.00 sec] [RSS: 0.00290985] [loc=0.000 scale=51.299]\n",
      "[distfit] >INFO> [pareto    ] [0.01 sec] [RSS: 0.00027492] [loc=-19.632 scale=19.632]\n",
      "[distfit] >INFO> [dweibull  ] [1.29 sec] [RSS: 0.0107812] [loc=4.000 scale=32.065]\n",
      "[distfit] >INFO> [t         ] [2.78 sec] [RSS: 0.0027232] [loc=9.533 scale=10.425]\n",
      "[distfit] >INFO> [genextreme] [2.91 sec] [RSS: 0.000342667] [loc=8.127 scale=12.149]\n",
      "[distfit] >INFO> [gamma     ] [1.54 sec] [RSS: 0.00711806] [loc=-0.000 scale=3.949]\n",
      "[distfit] >INFO> [lognorm   ] [0.29 sec] [RSS: 0.000141125] [loc=-0.262 scale=15.210]\n",
      "[distfit] >INFO> [beta      ] [2.21 sec] [RSS: 0.000787604] [loc=-0.000 scale=19952.031]\n",
      "[distfit] >INFO> [uniform   ] [0.00 sec] [RSS: 0.00830253] [loc=0.000 scale=2640.000]\n",
      "[distfit] >INFO> [loggamma  ] [0.26 sec] [RSS: 0.00677248] [loc=-33690.830 scale=4551.557]\n",
      "[distfit] >INFO> Compute confidence intervals [parametric]\n"
     ]
    },
    {
     "data": {
      "text/plain": [
       "{'model': {'name': 'lognorm',\n",
       "  'score': 0.00014112533231966308,\n",
       "  'loc': -0.26168682590540004,\n",
       "  'scale': 15.210018233618559,\n",
       "  'arg': (1.7157500071954126,),\n",
       "  'params': (1.7157500071954126, -0.26168682590540004, 15.210018233618559),\n",
       "  'model': <scipy.stats._distn_infrastructure.rv_continuous_frozen at 0x1d1479a86a0>,\n",
       "  'bootstrap_score': 0,\n",
       "  'bootstrap_pass': None,\n",
       "  'color': '#e41a1c',\n",
       "  'CII_min_alpha': 0.6429666418070866,\n",
       "  'CII_max_alpha': 255.46568605642997},\n",
       " 'summary':           name     score          loc         scale  \\\n",
       " 0      lognorm  0.000141    -0.261687     15.210018   \n",
       " 1       pareto  0.000275   -19.632085     19.632085   \n",
       " 2   genextreme  0.000343       8.1271     12.149293   \n",
       " 3         beta  0.000788         -0.0  19952.031234   \n",
       " 4            t  0.002723     9.533338     10.424744   \n",
       " 5        expon   0.00291          0.0     51.298776   \n",
       " 6         norm   0.00669    51.298776    103.293281   \n",
       " 7     loggamma  0.006772 -33690.83029   4551.556572   \n",
       " 8        gamma  0.007118         -0.0       3.94888   \n",
       " 9      uniform  0.008303          0.0        2640.0   \n",
       " 10    dweibull  0.010781          4.0     32.064593   \n",
       " \n",
       "                                         arg  \\\n",
       " 0                     (1.7157500071954126,)   \n",
       " 1                        (1.1706256082598,)   \n",
       " 2                    (-1.2244919409545623,)   \n",
       " 3   (0.9264709454511234, 804.5035497040618)   \n",
       " 4                     (0.7919166187536418,)   \n",
       " 5                                        ()   \n",
       " 6                                        ()   \n",
       " 7                     (1657.9370630749513,)   \n",
       " 8                   (0.018914918783084197,)   \n",
       " 9                                        ()   \n",
       " 10                    (0.5688213854277128,)   \n",
       " \n",
       "                                                params  \\\n",
       " 0   (1.7157500071954126, -0.26168682590540004, 15....   \n",
       " 1   (1.1706256082598, -19.632085385378527, 19.6320...   \n",
       " 2   (-1.2244919409545623, 8.127100087996318, 12.14...   \n",
       " 3   (0.9264709454511234, 804.5035497040618, -1.410...   \n",
       " 4   (0.7919166187536418, 9.533338186142554, 10.424...   \n",
       " 5                            (0.0, 51.29877552814966)   \n",
       " 6             (51.29877552814966, 103.29328083232608)   \n",
       " 7   (1657.9370630749513, -33690.8302900203, 4551.5...   \n",
       " 8   (0.018914918783084197, -6.311887550472245e-27,...   \n",
       " 9                                       (0.0, 2640.0)   \n",
       " 10  (0.5688213854277128, 4.000000000000001, 32.064...   \n",
       " \n",
       "                                                 model bootstrap_score  \\\n",
       " 0   <scipy.stats._distn_infrastructure.rv_continuo...               0   \n",
       " 1   <scipy.stats._distn_infrastructure.rv_continuo...               0   \n",
       " 2   <scipy.stats._distn_infrastructure.rv_continuo...               0   \n",
       " 3   <scipy.stats._distn_infrastructure.rv_continuo...               0   \n",
       " 4   <scipy.stats._distn_infrastructure.rv_continuo...               0   \n",
       " 5   <scipy.stats._distn_infrastructure.rv_continuo...               0   \n",
       " 6   <scipy.stats._distn_infrastructure.rv_continuo...               0   \n",
       " 7   <scipy.stats._distn_infrastructure.rv_continuo...               0   \n",
       " 8   <scipy.stats._distn_infrastructure.rv_continuo...               0   \n",
       " 9   <scipy.stats._distn_infrastructure.rv_continuo...               0   \n",
       " 10  <scipy.stats._distn_infrastructure.rv_continuo...               0   \n",
       " \n",
       "    bootstrap_pass    color  \n",
       " 0            None  #e41a1c  \n",
       " 1            None  #e41a1c  \n",
       " 2            None  #377eb8  \n",
       " 3            None  #4daf4a  \n",
       " 4            None  #984ea3  \n",
       " 5            None  #ff7f00  \n",
       " 6            None  #ffff33  \n",
       " 7            None  #a65628  \n",
       " 8            None  #f781bf  \n",
       " 9            None  #999999  \n",
       " 10           None  #999999  ,\n",
       " 'histdata': (array([6.05854262e-02, 4.51592776e-02, 2.18905986e-02, ...,\n",
       "         0.00000000e+00, 0.00000000e+00, 8.35200252e-06]),\n",
       "  array([1.31605184e+00, 3.94815553e+00, 6.58025922e+00, ...,\n",
       "         2.63341974e+03, 2.63605184e+03, 2.63868395e+03])),\n",
       " 'size': 45489,\n",
       " 'alpha': 0.05,\n",
       " 'stats': 'RSS',\n",
       " 'bins': 'auto',\n",
       " 'bound': 'both',\n",
       " 'name': 'popular',\n",
       " 'method': 'parametric',\n",
       " 'multtest': 'fdr_bh',\n",
       " 'n_perm': 10000,\n",
       " 'smooth': None,\n",
       " 'weighted': True,\n",
       " 'f': 1.5,\n",
       " 'n_boots': None,\n",
       " 'random_state': None}"
      ]
     },
     "execution_count": 11,
     "metadata": {},
     "output_type": "execute_result"
    }
   ],
   "source": [
    "from distfit import distfit\n",
    "\n",
    "\n",
    "dfit = distfit()\n",
    "\n",
    "\n",
    "dfit.fit_transform(test.sum_gamerounds)"
   ]
  },
  {
   "cell_type": "code",
   "execution_count": 12,
   "id": "e434466b",
   "metadata": {},
   "outputs": [
    {
     "name": "stderr",
     "output_type": "stream",
     "text": [
      "[distfit] >INFO> fit\n",
      "[distfit] >INFO> transform\n",
      "[distfit] >INFO> [norm      ] [0.00 sec] [RSS: 0.00777477] [loc=52.456 scale=256.714]\n",
      "[distfit] >INFO> [expon     ] [0.00 sec] [RSS: 0.0030265] [loc=0.000 scale=52.456]\n",
      "[distfit] >INFO> [pareto    ] [0.01 sec] [RSS: 0.000363798] [loc=-21.267 scale=21.267]\n",
      "[distfit] >INFO> [dweibull  ] [1.26 sec] [RSS: 0.0042289] [loc=4.000 scale=57.745]\n",
      "[distfit] >INFO> [t         ] [2.16 sec] [RSS: 0.00305106] [loc=10.233 scale=11.115]\n",
      "[distfit] >INFO> [genextreme] [1.65 sec] [RSS: 0.0103751] [loc=2.894 scale=3.014]\n",
      "[distfit] >INFO> [gamma     ] [1.40 sec] [RSS: 0.0086819] [loc=-0.000 scale=4.044]\n",
      "[distfit] >INFO> [lognorm   ] [0.34 sec] [RSS: 0.000185156] [loc=-0.283 scale=15.646]\n",
      "[distfit] >INFO> [beta      ] [2.27 sec] [RSS: 0.00032601] [loc=-0.000 scale=294233.073]\n",
      "[distfit] >INFO> [uniform   ] [0.00 sec] [RSS: 0.00867557] [loc=0.000 scale=49854.000]\n",
      "[distfit] >INFO> [loggamma  ] [0.25 sec] [RSS: 0.00819642] [loc=-145952.826 scale=19932.412]\n",
      "[distfit] >INFO> Compute confidence intervals [parametric]\n"
     ]
    },
    {
     "data": {
      "text/plain": [
       "{'model': {'name': 'lognorm',\n",
       "  'score': 0.00018515647144961954,\n",
       "  'loc': -0.28316153737793265,\n",
       "  'scale': 15.64574215175641,\n",
       "  'arg': (1.6904554729140937,),\n",
       "  'params': (1.6904554729140937, -0.28316153737793265, 15.64574215175641),\n",
       "  'model': <scipy.stats._distn_infrastructure.rv_continuous_frozen at 0x1d1479aa1d0>,\n",
       "  'bootstrap_score': 0,\n",
       "  'bootstrap_pass': None,\n",
       "  'color': '#e41a1c',\n",
       "  'CII_min_alpha': 0.6869414866040597,\n",
       "  'CII_max_alpha': 252.05008702261313},\n",
       " 'summary':           name     score            loc          scale  \\\n",
       " 0      lognorm  0.000185      -0.283162      15.645742   \n",
       " 1         beta  0.000326      -0.000001  294233.073404   \n",
       " 2       pareto  0.000364     -21.267187      21.267187   \n",
       " 3        expon  0.003026            0.0      52.456264   \n",
       " 4            t  0.003051      10.232733      11.115175   \n",
       " 5     dweibull  0.004229            4.0      57.744863   \n",
       " 6         norm  0.007775      52.456264     256.713552   \n",
       " 7     loggamma  0.008196 -145952.825686   19932.411538   \n",
       " 8      uniform  0.008676            0.0        49854.0   \n",
       " 9        gamma  0.008682           -0.0       4.044164   \n",
       " 10  genextreme  0.010375       2.894431       3.014114   \n",
       " \n",
       "                                          arg  \\\n",
       " 0                      (1.6904554729140937,)   \n",
       " 1   (0.41227238375039243, 3852.007399175892)   \n",
       " 2                      (1.2150216229303183,)   \n",
       " 3                                         ()   \n",
       " 4                      (0.8253221373553329,)   \n",
       " 5                       (0.448631073536101,)   \n",
       " 6                                         ()   \n",
       " 7                      (1517.1894798090375,)   \n",
       " 8                                         ()   \n",
       " 9                   (1.941076169870036e-05,)   \n",
       " 10                    (-0.5844020397549454,)   \n",
       " \n",
       "                                                params  \\\n",
       " 0   (1.6904554729140937, -0.28316153737793265, 15....   \n",
       " 1   (0.41227238375039243, 3852.007399175892, -1.27...   \n",
       " 2   (1.2150216229303183, -21.267187149896483, 21.2...   \n",
       " 3                            (0.0, 52.45626398210291)   \n",
       " 4   (0.8253221373553329, 10.232732515289776, 11.11...   \n",
       " 5   (0.448631073536101, 3.999999999999999, 57.7448...   \n",
       " 6             (52.45626398210291, 256.71355155162337)   \n",
       " 7   (1517.1894798090375, -145952.82568598771, 1993...   \n",
       " 8                                      (0.0, 49854.0)   \n",
       " 9   (1.941076169870036e-05, -2.3557505897364477e-2...   \n",
       " 10  (-0.5844020397549454, 2.894431145142507, 3.014...   \n",
       " \n",
       "                                                 model bootstrap_score  \\\n",
       " 0   <scipy.stats._distn_infrastructure.rv_continuo...               0   \n",
       " 1   <scipy.stats._distn_infrastructure.rv_continuo...               0   \n",
       " 2   <scipy.stats._distn_infrastructure.rv_continuo...               0   \n",
       " 3   <scipy.stats._distn_infrastructure.rv_continuo...               0   \n",
       " 4   <scipy.stats._distn_infrastructure.rv_continuo...               0   \n",
       " 5   <scipy.stats._distn_infrastructure.rv_continuo...               0   \n",
       " 6   <scipy.stats._distn_infrastructure.rv_continuo...               0   \n",
       " 7   <scipy.stats._distn_infrastructure.rv_continuo...               0   \n",
       " 8   <scipy.stats._distn_infrastructure.rv_continuo...               0   \n",
       " 9   <scipy.stats._distn_infrastructure.rv_continuo...               0   \n",
       " 10  <scipy.stats._distn_infrastructure.rv_continuo...               0   \n",
       " \n",
       "    bootstrap_pass    color  \n",
       " 0            None  #e41a1c  \n",
       " 1            None  #e41a1c  \n",
       " 2            None  #377eb8  \n",
       " 3            None  #4daf4a  \n",
       " 4            None  #984ea3  \n",
       " 5            None  #ff7f00  \n",
       " 6            None  #ffff33  \n",
       " 7            None  #a65628  \n",
       " 8            None  #f781bf  \n",
       " 9            None  #999999  \n",
       " 10           None  #999999  ,\n",
       " 'histdata': (array([6.07288073e-02, 4.56260011e-02, 2.31041177e-02, ...,\n",
       "         0.00000000e+00, 0.00000000e+00, 8.82173261e-06]),\n",
       "  array([1.26796887e+00, 3.80390661e+00, 6.33984435e+00, ...,\n",
       "         4.98476602e+04, 4.98501961e+04, 4.98527320e+04])),\n",
       " 'size': 44700,\n",
       " 'alpha': 0.05,\n",
       " 'stats': 'RSS',\n",
       " 'bins': 'auto',\n",
       " 'bound': 'both',\n",
       " 'name': 'popular',\n",
       " 'method': 'parametric',\n",
       " 'multtest': 'fdr_bh',\n",
       " 'n_perm': 10000,\n",
       " 'smooth': None,\n",
       " 'weighted': True,\n",
       " 'f': 1.5,\n",
       " 'n_boots': None,\n",
       " 'random_state': None}"
      ]
     },
     "execution_count": 12,
     "metadata": {},
     "output_type": "execute_result"
    }
   ],
   "source": [
    "from distfit import distfit\n",
    "\n",
    "\n",
    "dfit = distfit()\n",
    "\n",
    "\n",
    "dfit.fit_transform(control.sum_gamerounds)"
   ]
  },
  {
   "cell_type": "code",
   "execution_count": 13,
   "id": "6402d23a",
   "metadata": {},
   "outputs": [
    {
     "data": {
      "text/plain": [
       "0.05020880772044255"
      ]
     },
     "execution_count": 13,
     "metadata": {},
     "output_type": "execute_result"
    }
   ],
   "source": [
    "mw_stat, pvalue = stats.mannwhitneyu(x=control.sum_gamerounds, y=test.sum_gamerounds, )\n",
    "pvalue"
   ]
  },
  {
   "cell_type": "code",
   "execution_count": 14,
   "id": "977a518f",
   "metadata": {},
   "outputs": [],
   "source": [
    "es = (test.sum_gamerounds.mean() - control.sum_gamerounds.mean()) / ((control.sum_gamerounds.std()**2 + test.sum_gamerounds.std()**2) / 2) ** 0.5"
   ]
  },
  {
   "cell_type": "code",
   "execution_count": 15,
   "id": "653060d4",
   "metadata": {},
   "outputs": [
    {
     "data": {
      "text/plain": [
       "0.14368870912447107"
      ]
     },
     "execution_count": 15,
     "metadata": {},
     "output_type": "execute_result"
    }
   ],
   "source": [
    "tt_ind_solve_power(effect_size=es, nobs1=control.shape[0], alpha=pvalue, ratio=1)"
   ]
  },
  {
   "cell_type": "code",
   "execution_count": 16,
   "id": "78d0382c",
   "metadata": {},
   "outputs": [
    {
     "data": {
      "text/plain": [
       "-2.2065781397397344"
      ]
     },
     "execution_count": 16,
     "metadata": {},
     "output_type": "execute_result"
    }
   ],
   "source": [
    "lift = (test.sum_gamerounds.mean() / control.sum_gamerounds.mean()) - 1\n",
    "lift * 100"
   ]
  },
  {
   "cell_type": "markdown",
   "id": "20956a6f",
   "metadata": {},
   "source": [
    "### Отрицательный прирост. Необходимо либо перепроводить, либо продолжать сбор данных"
   ]
  },
  {
   "cell_type": "code",
   "execution_count": 17,
   "id": "22e55a42",
   "metadata": {},
   "outputs": [
    {
     "data": {
      "application/vnd.jupyter.widget-view+json": {
       "model_id": "eb24ff6f1a8441388e31de726ed2340d",
       "version_major": 2,
       "version_minor": 0
      },
      "text/plain": [
       "  0%|          | 0/1000 [00:00<?, ?it/s]"
      ]
     },
     "metadata": {},
     "output_type": "display_data"
    }
   ],
   "source": [
    "n = 1000\n",
    "sample_size = max(control.shape[0], test.shape[0])\n",
    "sample_mean = []\n",
    "for _ in tqdm_notebook(range(n)):\n",
    "    sample_control = control.sum_gamerounds.sample(n=sample_size, replace=True, random_state=_)\n",
    "    sample_test = test.sum_gamerounds.sample(n=sample_size, replace=True, random_state=_)\n",
    "    sample_mean.append(sample_test.mean() - sample_control.mean())"
   ]
  },
  {
   "cell_type": "code",
   "execution_count": 18,
   "id": "9ad4ac80",
   "metadata": {},
   "outputs": [
    {
     "data": {
      "text/plain": [
       "array([-3.71059267, -0.98386423,  1.07189266])"
      ]
     },
     "execution_count": 18,
     "metadata": {},
     "output_type": "execute_result"
    }
   ],
   "source": [
    "np.quantile(sample_mean, [.025, 0.5, 0.975])"
   ]
  },
  {
   "cell_type": "code",
   "execution_count": 19,
   "id": "0f9d9f56",
   "metadata": {},
   "outputs": [
    {
     "data": {
      "application/vnd.plotly.v1+json": {
       "config": {
        "plotlyServerURL": "https://plot.ly"
       },
       "data": [
        {
         "alignmentgroup": "True",
         "bingroup": "x",
         "hovertemplate": "mean=%{x}<br>count=%{y}<extra></extra>",
         "legendgroup": "",
         "marker": {
          "color": "#636efa",
          "pattern": {
           "shape": ""
          }
         },
         "name": "",
         "nbinsx": 50,
         "offsetgroup": "",
         "orientation": "v",
         "showlegend": false,
         "type": "histogram",
         "x": [
          -3.117808701004641,
          -2.3784431400998045,
          1.176152476422871,
          -0.9878871815164132,
          -1.6162588757721608,
          0.35791070368660627,
          0.5158829607157784,
          0.5505067159093429,
          -0.5800962870144417,
          -0.2866407263294377,
          0.031436171382090095,
          -0.7675921651388222,
          -0.38591747455429015,
          -0.16916177537426336,
          0.018312119413486982,
          0.23056123458418654,
          -1.0116951350876064,
          -0.9342258568005448,
          0.310206863197692,
          0.3991514432060512,
          -1.8582514454043846,
          0.3887533249796675,
          -3.2731209743014844,
          -0.4556046516740295,
          -0.835124975268748,
          -0.3891490250390248,
          -0.6077733078326659,
          -0.9510870759963908,
          -2.4222119633317902,
          -2.2845742926861448,
          0.7511266460023265,
          0.21141374837873173,
          -0.5823825540240506,
          -1.97792873002264,
          0.36252720437907726,
          -3.0369539888764336,
          -2.020268636373629,
          -1.0007474334454542,
          1.424344346984988,
          -5.1212600848556775,
          -2.709468223086901,
          -1.6913099870298325,
          -0.7587548638132304,
          -2.1946404625294065,
          -2.308755962980058,
          -1.0547385082107752,
          -1.858779045483523,
          -1.5271384290707672,
          -0.18699026138187236,
          -0.1343401701510274,
          1.211083998329265,
          -1.7564685968036287,
          -0.35542658664731874,
          -0.6534986480248008,
          -1.542153047989622,
          -0.7686693486337361,
          -2.326606432324297,
          -3.6154015256435628,
          -0.023280353492054928,
          -1.5810415704895675,
          -0.08243751236562957,
          -2.5758095363714304,
          -1.5299522961595144,
          -0.947833542175033,
          -0.5941436391215476,
          0.38136692387170257,
          -2.7147442238782986,
          0.03660225549033669,
          -3.4184528127679172,
          -6.87676141484755,
          -0.2858713095473675,
          -0.2342764184747992,
          -3.1583899404251596,
          1.2397722526325055,
          -0.2233946668425304,
          -3.182439710699292,
          -0.44314009980435287,
          -1.5693244520653309,
          -1.629382927740771,
          0.5729517026094229,
          -2.4622436193365402,
          -0.3613181208643823,
          -1.0868121963551616,
          -0.3412473345204319,
          -1.0331069049660329,
          -2.617248125920547,
          -2.4465914836553893,
          -0.8923256171821734,
          -0.8968102178548705,
          -1.0614654092198066,
          -0.6126755919013362,
          -0.8879509331926414,
          -2.150322055881638,
          0.5555189166611711,
          -1.762579964386994,
          0.420607179757738,
          -1.662138099320714,
          -1.5807557871133682,
          -1.159906790652684,
          -2.5191364945371433,
          -2.3413352678669597,
          -3.5598056673041825,
          -3.309987029831383,
          -2.047088307063248,
          -0.9915583987337584,
          -3.6666666666666714,
          -2.6809998021499695,
          -0.10398118226384412,
          -1.3463914352920483,
          -0.17876849348193957,
          -1.3593835872408704,
          -1.5463078986128522,
          -3.4798302886412102,
          -0.5230715117940576,
          0.2232407834861192,
          -3.811602805073754,
          -2.3483919189254507,
          0.40829651124447963,
          0.29560992767482475,
          -1.9143749038229032,
          -0.3022269120006982,
          -1.0266438039965706,
          -1.499461408252543,
          0.8389720591791487,
          1.0328431049264637,
          0.5539361164237491,
          1.9792257468838628,
          -2.0370419222229543,
          -1.107102816065428,
          0.8247928070522548,
          -0.629382927740771,
          -2.3361032337488155,
          -0.6224581767020609,
          -1.3795642902679717,
          0.055002308250344356,
          -0.5097496097957759,
          -1.6181274593857822,
          -0.9501857591945324,
          -3.743322561498381,
          -0.5128492602607224,
          -2.8290355910220057,
          -0.057090725230274586,
          -1.0683242102486332,
          0.5035503088658757,
          -0.6179515926927408,
          -2.908637252962258,
          -1.2044889973400146,
          -3.012024885137066,
          0.33564158367956765,
          -2.5722042691639686,
          -0.19158477873772028,
          -0.5637846512343643,
          -2.1281848358943876,
          -2.119853151311304,
          -1.4882718899074519,
          0.8500736441777121,
          -0.6629514827760588,
          -0.8012266701840005,
          -0.5220822616456715,
          -0.2204928664072625,
          -1.3955461759985894,
          -2.1475961221394186,
          -1.2066213809932052,
          -0.7872892347600526,
          -1.159884807316054,
          -0.6116423750796898,
          -1.5478906988502743,
          -1.5102991932115444,
          -2.1572907735936155,
          0.1201829013607707,
          -1.4767086548396335,
          0.7186352744619597,
          -2.0893622634043396,
          0.13040515289410592,
          -0.2789245751720202,
          -2.359471520587398,
          -0.5995735232693633,
          -3.0102662182066027,
          -3.205500230825031,
          -0.13266943656708463,
          -3.0097606014640874,
          -0.15117940601024316,
          -0.8049638374112433,
          0.8491503440392165,
          1.2373760689397457,
          -2.0424937897074003,
          -2.324671898700778,
          -1.8602079623645267,
          -0.33344325001648656,
          0.7224164083624629,
          -1.6679197168546267,
          -1.5428565147618158,
          -0.9588911605003361,
          -1.7314515597177333,
          -1.5250280287541997,
          -0.2152608322891183,
          -2.2228011167535016,
          -1.866912880036935,
          -0.8935786673701287,
          -2.9566268768273645,
          -0.6093341247334507,
          0.5346567301985061,
          0.011013651652049816,
          -1.7465101453098555,
          -1.3763767064565045,
          0.5430543647914945,
          -0.5813493372024041,
          -1.7183714744223906,
          -0.8535909780386461,
          -2.0034294005144133,
          -3.8346193585262327,
          -1.3704851722394409,
          -0.23078106795049536,
          -1.1106860999362453,
          -0.9201125546835556,
          -1.7845633010178261,
          -1.3105366132471588,
          -1.1817582272637353,
          -0.1333948866759016,
          1.3426322847281824,
          -0.8428631097628028,
          -0.49077799028336244,
          -1.3827079074061857,
          -0.8663632966211594,
          -1.4412934995273616,
          -0.9325990898898624,
          0.09208819714656613,
          -0.848358943920509,
          -0.1684143419288162,
          -0.9083075029127912,
          1.0403833893908399,
          -0.5192024445470338,
          0.24274000307767096,
          -1.0546285915276172,
          0.6715469673987116,
          -0.7376948273208939,
          0.13031721954758524,
          -0.7741431994548194,
          -0.39282024225637,
          -0.7735716327024136,
          -0.33797181736243687,
          -0.16280859108795198,
          -1.5871089713996795,
          0.507089626063447,
          -3.4243883136582483,
          -4.441755149596602,
          -2.2948405108927403,
          0.25001648750247796,
          -1.2938732440809915,
          -0.3414012178768502,
          -2.9367539405130856,
          -3.311921563454895,
          -1.6286574776319611,
          0.7399151443206051,
          -0.9699487788256462,
          0.14759612213941153,
          -1.098749148145707,
          -0.6453208467981284,
          -1.4373145155971798,
          -0.33533381696674525,
          -1.8387082591395725,
          0.3561080700828825,
          -2.3331794499769174,
          -0.42454219701466656,
          0.06014640902196078,
          -2.362747037745386,
          -1.6364395787992763,
          -0.31282288025676763,
          -1.5874387214491463,
          -0.8071401877376942,
          -1.774231132801333,
          -1.7658334982083588,
          0.8338939084174228,
          0.18769372815405916,
          -1.1889687616786446,
          -0.286794609685856,
          -0.9687177119743211,
          0.862911912770123,
          0.2298797511486299,
          -0.3332673833234452,
          -1.1196772846182625,
          -0.7642726813075669,
          -1.0417023895886928,
          -0.6145002088416973,
          -1.2896744267845008,
          -2.8168568225285213,
          -3.473630987711317,
          0.5306117962584409,
          -1.7023676053551426,
          -1.7211413748378774,
          0.2658664732133005,
          -3.39730484292906,
          0.7091384730374415,
          -2.641979379630243,
          -0.5596298006111411,
          -2.3332234166501777,
          -2.3962716261074135,
          -0.01833410275011005,
          0.4586163687924554,
          -3.7105893732550754,
          -0.7825848007210539,
          -1.3722438391699043,
          -1.7454329618149487,
          -2.8418958429510397,
          -0.19373914572754103,
          -0.6857042361889683,
          -5.715733474026685,
          -1.5461979819297014,
          -2.0437468398953555,
          -0.18072501044208167,
          -2.78357405086944,
          0.12211743498428262,
          -0.20453296401328203,
          -0.2455318868297809,
          -0.28338719250808,
          -0.5161907274286079,
          -2.5109147266372105,
          -1.6882982699114066,
          -2.5772824199256945,
          -1.8096902547868652,
          -0.26573457319351945,
          -1.187671744817429,
          -3.641012112818487,
          0.753500846358456,
          -1.544835015058581,
          0.3857416078612417,
          -6.4923388071841615,
          -0.8287278243091691,
          -0.6694585504187813,
          1.0017586669304706,
          0.28270570907252335,
          -0.09600123106685032,
          -2.0926157972257045,
          -1.2257249005254067,
          -0.17454769284882587,
          0.10521224911516924,
          -0.5301061795159256,
          -1.0957374310272812,
          -0.0241596869572831,
          -2.76974653212865,
          -1.7408164611224706,
          -1.6640506496075957,
          -3.5532326496515694,
          0.40677966101694807,
          0.041218756182814786,
          -0.2642836729758855,
          -0.7226362417287717,
          0.7143705071555786,
          0.7455428784980995,
          1.0106179515926925,
          -0.9087911363186691,
          -3.138319154081209,
          0.23823341906835083,
          -2.633603728373892,
          -0.3566356701620208,
          0.34821605223240937,
          -0.9682340785684431,
          0.014750818879292638,
          -2.216074215744463,
          -0.22891248433687394,
          -0.9472180087493669,
          -0.5766668865000284,
          -0.04086702279672494,
          -0.3907318252764398,
          0.9967904328519026,
          -0.5182351777352778,
          -0.5780078700345115,
          -1.013717602057639,
          -1.3598892039833785,
          -0.18962826177757108,
          -1.9780826133790583,
          -2.3522170194992214,
          -0.21433753215062978,
          -2.092286047176245,
          -0.51122249335004,
          0.9153641539712893,
          -3.324627932027525,
          -0.871771197432345,
          -2.5764250697970965,
          -0.8618127459385789,
          -0.5861636879245538,
          1.117303084262133,
          0.09019763019631455,
          -0.7945437358482295,
          1.571742619094728,
          -2.560838884125829,
          0.17228340917584006,
          -1.162434874365232,
          -0.9248829387324378,
          -2.250654004264767,
          -0.337861900679286,
          -1.6938820374156407,
          0.5815911539053431,
          -1.6981468047220218,
          -1.7362878937765203,
          -2.232583701554219,
          -1.6481347138868756,
          -2.007870034513843,
          -0.5920991888148777,
          0.017103035898784924,
          -1.7082591395722062,
          -2.074369627822108,
          -1.3196816812855872,
          -2.4626173360592674,
          -1.0142452021367774,
          1.0712699773571686,
          0.41759546263931924,
          -0.7586669304667097,
          -1.7723185825144512,
          -0.6788014684868884,
          -2.407878827848485,
          -3.764998131416391,
          -0.06874189364462069,
          2.0236101035415146,
          -0.3497329024599338,
          -0.9197388379608284,
          -2.2792982918947473,
          -2.1088834663325216,
          -3.4310932313306495,
          -2.4356217986766,
          -1.3560421200729849,
          -1.6212930598606263,
          0.04922069071643165,
          0.14601332190199656,
          -2.1724812592055187,
          -0.22930818439623124,
          2.3131965969794948,
          -0.6235133768603376,
          -0.8856426828464024,
          -0.41267119523401163,
          -2.357009386884741,
          -2.900657301765257,
          -1.818263756072902,
          -0.8721229308184348,
          -1.497878608015121,
          -2.795576952669876,
          -0.49374574072852795,
          -0.7263514256193773,
          -2.1606762074347685,
          -2.8058431708764786,
          -0.12992151948822794,
          -0.2595792389368867,
          -0.3812789905251819,
          0.07918397854426473,
          -1.6294268944140384,
          -2.235133768603397,
          0.08008529534612308,
          -1.7138648904130633,
          -2.4403482160522287,
          0.5896590384488576,
          -2.001956516960142,
          -0.6031128404669275,
          -0.6896612367825199,
          -1.2699993404999006,
          0.004440633999429622,
          -0.6334278616808433,
          -1.33896106751083,
          -1.4099892281650526,
          -2.389676625118163,
          0.15931324056364815,
          -1.126272285607513,
          -2.468992503682209,
          -0.45549473499087867,
          -1.9008331684583055,
          -1.958253643738047,
          0.07085229396117398,
          -2.6336696783837823,
          -3.044999890083318,
          -2.6905625535843853,
          -0.5991558398733758,
          0.5317329464266081,
          -1.8489744773461751,
          -0.4902064235309638,
          -0.7126997735716358,
          -0.6364835454725366,
          -1.9846776143683087,
          -1.2775396249642768,
          -0.11923761788564491,
          -2.327551715799423,
          -0.9910527819912502,
          0.05429884147816466,
          -1.266042339906349,
          -1.7815296005627772,
          -2.1097408164611196,
          -1.867044780056716,
          -2.1262283189342455,
          -2.86157092923564,
          -0.5215766449031634,
          -1.7961045527490214,
          -2.60511332410033,
          -0.901118951834512,
          0.12053463474686765,
          -0.904768185715227,
          -0.3134603970190639,
          -0.6147200422080061,
          -0.7429048781024008,
          -1.8468640770296147,
          0.07773307832663079,
          -0.21671173250675935,
          -4.000593550089036,
          0.04453824001407014,
          -1.086856163028422,
          -3.882784849084395,
          -2.937413440612019,
          -0.809778188133393,
          -1.77009826551474,
          -0.8216272065774106,
          -1.3946008925234707,
          -1.1535536063663727,
          -0.00030776671282950474,
          -2.2827057090725233,
          -1.757963463694523,
          0.027764954164744893,
          -2.4294224977467067,
          -0.4075270944624023,
          0.19534392930158617,
          1.7175361076304227,
          0.448987667348149,
          -1.275275341291298,
          -2.306579612653607,
          -0.6663149332805745,
          -0.7977972696695943,
          0.039789839301811014,
          -2.6048275407241306,
          0.021147969838864356,
          0.08496559607817744,
          -2.7479390621908593,
          -3.2156125656752224,
          -1.0183341027501172,
          -1.8475675438017944,
          -3.1198311679746737,
          -2.12044670140034,
          -1.8341357251203547,
          -0.9800391303392004,
          -4.291147310338758,
          -0.5240167952691834,
          -0.16291850777110994,
          0.9689595286772601,
          -1.9945701158521842,
          -0.04126272285607513,
          -1.0407131394402995,
          -0.26918595704456294,
          0.46598078656378306,
          0.12629426894413598,
          0.0992987315614755,
          0.44995493415991206,
          -0.38624722460374983,
          -0.6162368924355306,
          -1.3396425509463867,
          -3.335311833630108,
          0.020158719690478222,
          -1.19639912945987,
          0.38802787487085055,
          0.801292620193891,
          -0.04952845742926826,
          0.40156961023544113,
          -2.4933280573325405,
          -0.004506584009320136,
          -0.6896172701092596,
          -1.7465980786563762,
          0.6007386401107908,
          -0.4807096221064384,
          -2.0336345050451783,
          1.005825584207173,
          -0.9956472993470982,
          -2.4565719184857855,
          -2.2691419903713026,
          -0.6710193673195732,
          -1.6114005583767508,
          0.14482622172393889,
          -0.6280859108795553,
          -0.5526390995625334,
          -2.232297918178027,
          -0.2965771944865807,
          1.2925542438831314,
          -1.044780056717002,
          -2.5736112027083493,
          -0.2495768207698532,
          0.8979973180329281,
          0.24893930400756403,
          -2.8003913033920327,
          0.1963331794499794,
          0.4213106465299319,
          -1.5895491217656996,
          -0.28457429268614476,
          -0.9746971795379125,
          -4.366506188309259,
          -2.6459803468970478,
          -0.12128206819230769,
          -4.039745872628551,
          -2.311921563454902,
          -1.0767438281782447,
          -1.112444766866716,
          0.7779243333553154,
          0.6933984040097627,
          -2.9623205610147494,
          -2.919299171228211,
          0.23220998483149913,
          -1.2755391413308743,
          -1.7700542988414796,
          -0.9313240563652769,
          -0.8597682956319161,
          -2.8458748268812215,
          -1.034821605223243,
          -0.9331706566422682,
          0.09503396425509436,
          -0.013058101958712598,
          0.3556244366769974,
          -1.2077425311613794,
          -0.048781023983821115,
          -1.7524676295368096,
          0.7033128888302684,
          -1.8464463936336202,
          -0.054760491547405366,
          -2.259227505550797,
          -2.407637011145553,
          -1.6772406515860965,
          -0.3799599903273361,
          0.6854404361493991,
          -0.23882696915737966,
          -5.207588647804968,
          -0.5690386686891316,
          -1.1202708347072914,
          -2.275649058014025,
          -0.4545934181890132,
          -3.3196157312756966,
          -1.3454681351535527,
          -4.043351139836005,
          -3.256919255204558,
          -1.4516256677438477,
          -0.9206621380993241,
          -0.21468926553672674,
          -0.6542680648068782,
          -0.8720349974719142,
          -3.2339246850887022,
          -2.5538701664138586,
          -0.41185781177866687,
          -1.5948690892303645,
          -2.8894238167469055,
          -1.7216469915803785,
          -0.6081030578821256,
          -0.2701752071929491,
          -1.30545846248544,
          -2.7227681417485528,
          -4.500450658400936,
          -2.7086548396315564,
          -1.4829958891160473,
          -1.5355140803271112,
          -1.7577875970014745,
          -2.2093253313988015,
          1.0283145375805134,
          -0.7444437116665554,
          -1.3661104882499089,
          -0.7619644309613349,
          -0.36802303853679064,
          -0.6516080810745422,
          -1.5959682560619015,
          -1.3137901470685236,
          -1.3870166413858271,
          -3.4330717316274217,
          -1.992107982149527,
          -0.6808019521202979,
          0.7298687594803113,
          -1.2994350282485883,
          -2.9259601222273517,
          0.23447426850447783,
          -0.7781221833849941,
          -0.19184857877728945,
          -1.2497087207896413,
          -1.898810701488273,
          -0.5591022005319957,
          -0.6016179735760332,
          0.41526522895645,
          -1.4870628063927498,
          0.18433027764954346,
          -1.976829563191103,
          -0.9083514695860515,
          -3.6375387456308133,
          -0.6367253621754685,
          -1.321594231572469,
          0.8139770054298836,
          -1.7645584646837662,
          1.1329332366066538,
          0.06128954252676522,
          -0.6012882235265664,
          -1.0034294005144062,
          0.5710171689859038,
          -0.1786805601354189,
          -2.887797049836223,
          0.23992613598891666,
          0.4711248873353995,
          -3.4051528941062656,
          -3.4200575963419695,
          -0.1598188573061563,
          -2.255116621600827,
          -0.7044120556618054,
          -1.2345841851876287,
          -2.8133834553408548,
          -0.1996966299544951,
          -1.022554903383238,
          -0.8500516608410891,
          0.4392710325573148,
          -2.7014882718899074,
          -2.9960429994064555,
          -1.5288311459913402,
          -3.133219019982853,
          1.13840708742773,
          -2.6193585262371073,
          -3.0883730132559535,
          -0.03383235507484983,
          0.3978324430081983,
          -0.999758183297061,
          -0.585218404449428,
          -1.8125261052122426,
          -3.493635824045377,
          -1.3559761700630943,
          -2.9324671898700814,
          -0.8482050605640907,
          -0.18167029391720746,
          1.4805117720767669,
          -2.2580843720459853,
          -2.3812130405152843,
          0.05003407417177641,
          -0.2643056563125157,
          -3.040295456044312,
          -2.5007364417771356,
          0.12029281804392156,
          1.5201257446855294,
          -3.539580997603821,
          -1.1452439051199192,
          -1.8909626503110601,
          -2.690892303633845,
          -0.569566268768277,
          -0.7849590010771834,
          -1.4205632130844847,
          -2.4774121216118132,
          -0.8248147903888849,
          -1.2797379586273578,
          -1.9601661940249286,
          -0.1125986502231342,
          -0.47090505396909066,
          -1.6501571808569082,
          -0.12708566906285057,
          -0.8179559893600654,
          -2.9475257754621964,
          -1.417199762579962,
          0.492536657213833,
          -0.29567587768471526,
          -1.0007694167820773,
          -0.9073622194376654,
          -1.2451361867704307,
          -0.7328804765987371,
          -2.433973048429287,
          0.10433291564994107,
          -0.6576974653212844,
          -1.9845237310118904,
          -0.8755083646595878,
          -1.017234935918573,
          -2.099936248323772,
          -2.7236035085405277,
          -3.6692607003891027,
          -1.5191364945371362,
          -1.273077007628217,
          -1.505133109103305,
          0.8828947657675457,
          -0.6595440655982827,
          -3.427290114093516,
          -4.020554419749828,
          -0.631449361384071,
          -2.3914133087119964,
          -1.9673987117764753,
          -0.5966497394974581,
          -2.4367869155180415,
          -2.1427158214073714,
          -0.3158126140385633,
          -2.1004858317395403,
          -0.31390006375167445,
          1.386401107960161,
          0.5961441227549571,
          -2.378157356723605,
          -3.6380663457099516,
          -1.3623073710127755,
          -0.5042757589746998,
          1.2102925982105575,
          -1.9373035239288612,
          -1.3667919716854655,
          0.03552507199542987,
          -0.522390028358501,
          -1.2879597265272977,
          0.19664094616280892,
          0.015828002374199457,
          -0.9887884983182786,
          -2.0033194838312554,
          -1.4393149992305823,
          -2.32381454857218,
          -3.4354459319835584,
          -5.51159621007276,
          -1.5913737387060607,
          -0.7231858251445402,
          -0.6403306293829232,
          -2.737233177251646,
          -0.40726329442282605,
          -2.8214953065576225,
          0.5954626393194005,
          -1.040515289410628,
          -1.1109059333025613,
          -0.5307436962782148,
          -0.4426344830618376,
          -1.262876739431512,
          -1.0957813977005415,
          -1.2457077535228294,
          0.12413990195431523,
          -0.21433753215062978,
          -1.1776913099870328,
          -1.4935259073622191,
          -3.1600386906724722,
          0.7038185055727766,
          -1.2615137725603986,
          -2.2926861439029196,
          -2.7174921409571553,
          0.4037899272351524,
          0.021653586581372508,
          -1.1975642463013045,
          -0.9876893314867345,
          -1.2739123744201848,
          -0.39906350985952344,
          -2.2770120248851384,
          -1.2847941260524536,
          -1.2262305172679149,
          -2.2425861197212527,
          -2.2766822748356716,
          -2.2588098221548094,
          -3.1009035151355278,
          -1.9835344808635114,
          -3.2216579832487042,
          0.5547055332058335,
          -0.7564905801402517,
          -0.8067225043417068,
          -2.950141792521272,
          0.13372463672536128,
          -3.116973334212666,
          -3.950845259293459,
          1.0961770977598988,
          -2.2492470707203935,
          -1.8639671129283997,
          -1.3214403482160506,
          -0.8396755259513284,
          -2.019653102947963,
          -0.9007452351117848,
          -1.7211193915012473,
          -0.26894414034162395,
          0.6491019806986316,
          -1.6732836509925448,
          -2.7652839147925903,
          -1.5995515399327331,
          -0.0351073885994424,
          0.18846314493614358,
          -2.241047286157091,
          -0.32517751544329343,
          -2.4527028512387616,
          -1.8178680560135447,
          -0.8146145221921799,
          -1.61784167600959,
          -0.8573721119391564,
          -1.4094836114225373,
          0.2778034250038459,
          -1.748994262349143,
          0.058453692101387844,
          -1.056057508408628,
          -0.3330255666204991,
          0.1929037789355661,
          -0.5388555474950039,
          -1.3937655257314958,
          -0.10409109894699498,
          -2.5820308206379536,
          -1.1914528787179322,
          -0.8259799072303196,
          0.3189562311767702,
          -1.9005913517553736,
          -0.6004748400712216,
          -1.0178724526808622,
          0.2738464244103014,
          -1.3396205676097495,
          -0.30677746268328576,
          0.6261953439292967,
          -3.3439512849260282,
          0.9301589395238423,
          -1.1814284772142756,
          -3.2359251687221118,
          -1.0692475103871288,
          -0.33148673305634446,
          -0.4368748488645622,
          -0.26426168963924823,
          -2.473125370968802,
          -1.2481918705621098,
          0.46872870364263974,
          -1.9894699817538282,
          -2.399261359889209,
          -3.3017872452680876,
          -1.9098023698036855,
          -0.7370133438853372,
          -4.99762579964387,
          -0.6627975994196404,
          -1.202818263756079,
          -4.376706456505964,
          1.318450614434262,
          -0.03066675460001278,
          -0.02563257051155432,
          -2.2962914111103814,
          -2.9563630767877953,
          -0.27943019191452834,
          -0.38294972410912465,
          -2.0569808085471237,
          -1.844357976653697,
          -0.9712897623601364,
          0.06016839235859095,
          -0.26041460572885455,
          -1.8416100595748404,
          0.5453406318010963,
          -0.02152168656159148,
          0.5456483985139258,
          -2.8159115390533955,
          -1.6581591153905322,
          0.5014618918859526,
          0.24014596935522547,
          -0.173360592670754,
          -1.1101145331838467,
          0.22915430103981294,
          1.5764470531337267,
          -1.3238365319088103,
          0.6259535272263648,
          -3.7107212732748565,
          0.14878322231748342,
          -2.6758117347050927,
          -1.2358812020488443,
          -0.38068544043615304,
          -0.4333575150036282,
          -0.4081426278880613,
          -1.6673261667655908,
          -1.2392446525533671,
          -1.6175558926333835,
          -0.6076414078128778,
          0.393062058959309,
          0.09175844709710645,
          -2.7892017850469344,
          -0.396821209523182,
          -0.2922684605069392,
          -0.8426872430697543,
          -2.0127723185825204,
          -2.671986634131329,
          -1.343929301589391,
          -1.5075073094594345,
          -1.3891710083756479,
          1.5059025258853822,
          -0.19481632922244785,
          -2.40385587724505,
          -1.5431862648112755,
          -0.088438963265844,
          -0.17892237683835788,
          -1.1964870628063906,
          -1.2058299808744977,
          -0.2882235265668598,
          -3.5011101584998627,
          -1.5467695486821,
          -0.1534876563564822,
          -1.7992042032139608,
          1.0980676647101504,
          -2.238607135791071,
          -0.5123216601815841,
          -0.6735034843588537,
          -2.7792433335531683,
          -1.7324627932027568,
          -0.9061971025962379,
          -0.5276880124865357,
          0.027984787531053712,
          -0.47484007122601213,
          -1.371100705665107,
          -0.6978610213458154,
          -0.2674932401239829,
          -0.5336015300402295,
          1.5723361691837638,
          -0.017454769284881877,
          -2.025874387214486,
          -0.3640000879333414,
          -4.645057046758559,
          -1.499835124975263,
          -1.8509749609795776,
          -1.4224757633713594,
          -0.05733254193321358,
          -0.09987029831388128,
          -2.048781023983814,
          -3.8196926729538987,
          -1.0618171426059035,
          -1.8213194398645811,
          -0.7408384444591007,
          -2.726813075688632,
          -0.6200839763459314,
          -1.2627008727384634,
          0.4120556618083526,
          -1.2755391413308743
         ],
         "xaxis": "x",
         "yaxis": "y"
        },
        {
         "alignmentgroup": "True",
         "hovertemplate": "mean=%{x}<extra></extra>",
         "legendgroup": "",
         "marker": {
          "color": "#636efa"
         },
         "name": "",
         "notched": true,
         "offsetgroup": "",
         "showlegend": false,
         "type": "box",
         "x": [
          -3.117808701004641,
          -2.3784431400998045,
          1.176152476422871,
          -0.9878871815164132,
          -1.6162588757721608,
          0.35791070368660627,
          0.5158829607157784,
          0.5505067159093429,
          -0.5800962870144417,
          -0.2866407263294377,
          0.031436171382090095,
          -0.7675921651388222,
          -0.38591747455429015,
          -0.16916177537426336,
          0.018312119413486982,
          0.23056123458418654,
          -1.0116951350876064,
          -0.9342258568005448,
          0.310206863197692,
          0.3991514432060512,
          -1.8582514454043846,
          0.3887533249796675,
          -3.2731209743014844,
          -0.4556046516740295,
          -0.835124975268748,
          -0.3891490250390248,
          -0.6077733078326659,
          -0.9510870759963908,
          -2.4222119633317902,
          -2.2845742926861448,
          0.7511266460023265,
          0.21141374837873173,
          -0.5823825540240506,
          -1.97792873002264,
          0.36252720437907726,
          -3.0369539888764336,
          -2.020268636373629,
          -1.0007474334454542,
          1.424344346984988,
          -5.1212600848556775,
          -2.709468223086901,
          -1.6913099870298325,
          -0.7587548638132304,
          -2.1946404625294065,
          -2.308755962980058,
          -1.0547385082107752,
          -1.858779045483523,
          -1.5271384290707672,
          -0.18699026138187236,
          -0.1343401701510274,
          1.211083998329265,
          -1.7564685968036287,
          -0.35542658664731874,
          -0.6534986480248008,
          -1.542153047989622,
          -0.7686693486337361,
          -2.326606432324297,
          -3.6154015256435628,
          -0.023280353492054928,
          -1.5810415704895675,
          -0.08243751236562957,
          -2.5758095363714304,
          -1.5299522961595144,
          -0.947833542175033,
          -0.5941436391215476,
          0.38136692387170257,
          -2.7147442238782986,
          0.03660225549033669,
          -3.4184528127679172,
          -6.87676141484755,
          -0.2858713095473675,
          -0.2342764184747992,
          -3.1583899404251596,
          1.2397722526325055,
          -0.2233946668425304,
          -3.182439710699292,
          -0.44314009980435287,
          -1.5693244520653309,
          -1.629382927740771,
          0.5729517026094229,
          -2.4622436193365402,
          -0.3613181208643823,
          -1.0868121963551616,
          -0.3412473345204319,
          -1.0331069049660329,
          -2.617248125920547,
          -2.4465914836553893,
          -0.8923256171821734,
          -0.8968102178548705,
          -1.0614654092198066,
          -0.6126755919013362,
          -0.8879509331926414,
          -2.150322055881638,
          0.5555189166611711,
          -1.762579964386994,
          0.420607179757738,
          -1.662138099320714,
          -1.5807557871133682,
          -1.159906790652684,
          -2.5191364945371433,
          -2.3413352678669597,
          -3.5598056673041825,
          -3.309987029831383,
          -2.047088307063248,
          -0.9915583987337584,
          -3.6666666666666714,
          -2.6809998021499695,
          -0.10398118226384412,
          -1.3463914352920483,
          -0.17876849348193957,
          -1.3593835872408704,
          -1.5463078986128522,
          -3.4798302886412102,
          -0.5230715117940576,
          0.2232407834861192,
          -3.811602805073754,
          -2.3483919189254507,
          0.40829651124447963,
          0.29560992767482475,
          -1.9143749038229032,
          -0.3022269120006982,
          -1.0266438039965706,
          -1.499461408252543,
          0.8389720591791487,
          1.0328431049264637,
          0.5539361164237491,
          1.9792257468838628,
          -2.0370419222229543,
          -1.107102816065428,
          0.8247928070522548,
          -0.629382927740771,
          -2.3361032337488155,
          -0.6224581767020609,
          -1.3795642902679717,
          0.055002308250344356,
          -0.5097496097957759,
          -1.6181274593857822,
          -0.9501857591945324,
          -3.743322561498381,
          -0.5128492602607224,
          -2.8290355910220057,
          -0.057090725230274586,
          -1.0683242102486332,
          0.5035503088658757,
          -0.6179515926927408,
          -2.908637252962258,
          -1.2044889973400146,
          -3.012024885137066,
          0.33564158367956765,
          -2.5722042691639686,
          -0.19158477873772028,
          -0.5637846512343643,
          -2.1281848358943876,
          -2.119853151311304,
          -1.4882718899074519,
          0.8500736441777121,
          -0.6629514827760588,
          -0.8012266701840005,
          -0.5220822616456715,
          -0.2204928664072625,
          -1.3955461759985894,
          -2.1475961221394186,
          -1.2066213809932052,
          -0.7872892347600526,
          -1.159884807316054,
          -0.6116423750796898,
          -1.5478906988502743,
          -1.5102991932115444,
          -2.1572907735936155,
          0.1201829013607707,
          -1.4767086548396335,
          0.7186352744619597,
          -2.0893622634043396,
          0.13040515289410592,
          -0.2789245751720202,
          -2.359471520587398,
          -0.5995735232693633,
          -3.0102662182066027,
          -3.205500230825031,
          -0.13266943656708463,
          -3.0097606014640874,
          -0.15117940601024316,
          -0.8049638374112433,
          0.8491503440392165,
          1.2373760689397457,
          -2.0424937897074003,
          -2.324671898700778,
          -1.8602079623645267,
          -0.33344325001648656,
          0.7224164083624629,
          -1.6679197168546267,
          -1.5428565147618158,
          -0.9588911605003361,
          -1.7314515597177333,
          -1.5250280287541997,
          -0.2152608322891183,
          -2.2228011167535016,
          -1.866912880036935,
          -0.8935786673701287,
          -2.9566268768273645,
          -0.6093341247334507,
          0.5346567301985061,
          0.011013651652049816,
          -1.7465101453098555,
          -1.3763767064565045,
          0.5430543647914945,
          -0.5813493372024041,
          -1.7183714744223906,
          -0.8535909780386461,
          -2.0034294005144133,
          -3.8346193585262327,
          -1.3704851722394409,
          -0.23078106795049536,
          -1.1106860999362453,
          -0.9201125546835556,
          -1.7845633010178261,
          -1.3105366132471588,
          -1.1817582272637353,
          -0.1333948866759016,
          1.3426322847281824,
          -0.8428631097628028,
          -0.49077799028336244,
          -1.3827079074061857,
          -0.8663632966211594,
          -1.4412934995273616,
          -0.9325990898898624,
          0.09208819714656613,
          -0.848358943920509,
          -0.1684143419288162,
          -0.9083075029127912,
          1.0403833893908399,
          -0.5192024445470338,
          0.24274000307767096,
          -1.0546285915276172,
          0.6715469673987116,
          -0.7376948273208939,
          0.13031721954758524,
          -0.7741431994548194,
          -0.39282024225637,
          -0.7735716327024136,
          -0.33797181736243687,
          -0.16280859108795198,
          -1.5871089713996795,
          0.507089626063447,
          -3.4243883136582483,
          -4.441755149596602,
          -2.2948405108927403,
          0.25001648750247796,
          -1.2938732440809915,
          -0.3414012178768502,
          -2.9367539405130856,
          -3.311921563454895,
          -1.6286574776319611,
          0.7399151443206051,
          -0.9699487788256462,
          0.14759612213941153,
          -1.098749148145707,
          -0.6453208467981284,
          -1.4373145155971798,
          -0.33533381696674525,
          -1.8387082591395725,
          0.3561080700828825,
          -2.3331794499769174,
          -0.42454219701466656,
          0.06014640902196078,
          -2.362747037745386,
          -1.6364395787992763,
          -0.31282288025676763,
          -1.5874387214491463,
          -0.8071401877376942,
          -1.774231132801333,
          -1.7658334982083588,
          0.8338939084174228,
          0.18769372815405916,
          -1.1889687616786446,
          -0.286794609685856,
          -0.9687177119743211,
          0.862911912770123,
          0.2298797511486299,
          -0.3332673833234452,
          -1.1196772846182625,
          -0.7642726813075669,
          -1.0417023895886928,
          -0.6145002088416973,
          -1.2896744267845008,
          -2.8168568225285213,
          -3.473630987711317,
          0.5306117962584409,
          -1.7023676053551426,
          -1.7211413748378774,
          0.2658664732133005,
          -3.39730484292906,
          0.7091384730374415,
          -2.641979379630243,
          -0.5596298006111411,
          -2.3332234166501777,
          -2.3962716261074135,
          -0.01833410275011005,
          0.4586163687924554,
          -3.7105893732550754,
          -0.7825848007210539,
          -1.3722438391699043,
          -1.7454329618149487,
          -2.8418958429510397,
          -0.19373914572754103,
          -0.6857042361889683,
          -5.715733474026685,
          -1.5461979819297014,
          -2.0437468398953555,
          -0.18072501044208167,
          -2.78357405086944,
          0.12211743498428262,
          -0.20453296401328203,
          -0.2455318868297809,
          -0.28338719250808,
          -0.5161907274286079,
          -2.5109147266372105,
          -1.6882982699114066,
          -2.5772824199256945,
          -1.8096902547868652,
          -0.26573457319351945,
          -1.187671744817429,
          -3.641012112818487,
          0.753500846358456,
          -1.544835015058581,
          0.3857416078612417,
          -6.4923388071841615,
          -0.8287278243091691,
          -0.6694585504187813,
          1.0017586669304706,
          0.28270570907252335,
          -0.09600123106685032,
          -2.0926157972257045,
          -1.2257249005254067,
          -0.17454769284882587,
          0.10521224911516924,
          -0.5301061795159256,
          -1.0957374310272812,
          -0.0241596869572831,
          -2.76974653212865,
          -1.7408164611224706,
          -1.6640506496075957,
          -3.5532326496515694,
          0.40677966101694807,
          0.041218756182814786,
          -0.2642836729758855,
          -0.7226362417287717,
          0.7143705071555786,
          0.7455428784980995,
          1.0106179515926925,
          -0.9087911363186691,
          -3.138319154081209,
          0.23823341906835083,
          -2.633603728373892,
          -0.3566356701620208,
          0.34821605223240937,
          -0.9682340785684431,
          0.014750818879292638,
          -2.216074215744463,
          -0.22891248433687394,
          -0.9472180087493669,
          -0.5766668865000284,
          -0.04086702279672494,
          -0.3907318252764398,
          0.9967904328519026,
          -0.5182351777352778,
          -0.5780078700345115,
          -1.013717602057639,
          -1.3598892039833785,
          -0.18962826177757108,
          -1.9780826133790583,
          -2.3522170194992214,
          -0.21433753215062978,
          -2.092286047176245,
          -0.51122249335004,
          0.9153641539712893,
          -3.324627932027525,
          -0.871771197432345,
          -2.5764250697970965,
          -0.8618127459385789,
          -0.5861636879245538,
          1.117303084262133,
          0.09019763019631455,
          -0.7945437358482295,
          1.571742619094728,
          -2.560838884125829,
          0.17228340917584006,
          -1.162434874365232,
          -0.9248829387324378,
          -2.250654004264767,
          -0.337861900679286,
          -1.6938820374156407,
          0.5815911539053431,
          -1.6981468047220218,
          -1.7362878937765203,
          -2.232583701554219,
          -1.6481347138868756,
          -2.007870034513843,
          -0.5920991888148777,
          0.017103035898784924,
          -1.7082591395722062,
          -2.074369627822108,
          -1.3196816812855872,
          -2.4626173360592674,
          -1.0142452021367774,
          1.0712699773571686,
          0.41759546263931924,
          -0.7586669304667097,
          -1.7723185825144512,
          -0.6788014684868884,
          -2.407878827848485,
          -3.764998131416391,
          -0.06874189364462069,
          2.0236101035415146,
          -0.3497329024599338,
          -0.9197388379608284,
          -2.2792982918947473,
          -2.1088834663325216,
          -3.4310932313306495,
          -2.4356217986766,
          -1.3560421200729849,
          -1.6212930598606263,
          0.04922069071643165,
          0.14601332190199656,
          -2.1724812592055187,
          -0.22930818439623124,
          2.3131965969794948,
          -0.6235133768603376,
          -0.8856426828464024,
          -0.41267119523401163,
          -2.357009386884741,
          -2.900657301765257,
          -1.818263756072902,
          -0.8721229308184348,
          -1.497878608015121,
          -2.795576952669876,
          -0.49374574072852795,
          -0.7263514256193773,
          -2.1606762074347685,
          -2.8058431708764786,
          -0.12992151948822794,
          -0.2595792389368867,
          -0.3812789905251819,
          0.07918397854426473,
          -1.6294268944140384,
          -2.235133768603397,
          0.08008529534612308,
          -1.7138648904130633,
          -2.4403482160522287,
          0.5896590384488576,
          -2.001956516960142,
          -0.6031128404669275,
          -0.6896612367825199,
          -1.2699993404999006,
          0.004440633999429622,
          -0.6334278616808433,
          -1.33896106751083,
          -1.4099892281650526,
          -2.389676625118163,
          0.15931324056364815,
          -1.126272285607513,
          -2.468992503682209,
          -0.45549473499087867,
          -1.9008331684583055,
          -1.958253643738047,
          0.07085229396117398,
          -2.6336696783837823,
          -3.044999890083318,
          -2.6905625535843853,
          -0.5991558398733758,
          0.5317329464266081,
          -1.8489744773461751,
          -0.4902064235309638,
          -0.7126997735716358,
          -0.6364835454725366,
          -1.9846776143683087,
          -1.2775396249642768,
          -0.11923761788564491,
          -2.327551715799423,
          -0.9910527819912502,
          0.05429884147816466,
          -1.266042339906349,
          -1.7815296005627772,
          -2.1097408164611196,
          -1.867044780056716,
          -2.1262283189342455,
          -2.86157092923564,
          -0.5215766449031634,
          -1.7961045527490214,
          -2.60511332410033,
          -0.901118951834512,
          0.12053463474686765,
          -0.904768185715227,
          -0.3134603970190639,
          -0.6147200422080061,
          -0.7429048781024008,
          -1.8468640770296147,
          0.07773307832663079,
          -0.21671173250675935,
          -4.000593550089036,
          0.04453824001407014,
          -1.086856163028422,
          -3.882784849084395,
          -2.937413440612019,
          -0.809778188133393,
          -1.77009826551474,
          -0.8216272065774106,
          -1.3946008925234707,
          -1.1535536063663727,
          -0.00030776671282950474,
          -2.2827057090725233,
          -1.757963463694523,
          0.027764954164744893,
          -2.4294224977467067,
          -0.4075270944624023,
          0.19534392930158617,
          1.7175361076304227,
          0.448987667348149,
          -1.275275341291298,
          -2.306579612653607,
          -0.6663149332805745,
          -0.7977972696695943,
          0.039789839301811014,
          -2.6048275407241306,
          0.021147969838864356,
          0.08496559607817744,
          -2.7479390621908593,
          -3.2156125656752224,
          -1.0183341027501172,
          -1.8475675438017944,
          -3.1198311679746737,
          -2.12044670140034,
          -1.8341357251203547,
          -0.9800391303392004,
          -4.291147310338758,
          -0.5240167952691834,
          -0.16291850777110994,
          0.9689595286772601,
          -1.9945701158521842,
          -0.04126272285607513,
          -1.0407131394402995,
          -0.26918595704456294,
          0.46598078656378306,
          0.12629426894413598,
          0.0992987315614755,
          0.44995493415991206,
          -0.38624722460374983,
          -0.6162368924355306,
          -1.3396425509463867,
          -3.335311833630108,
          0.020158719690478222,
          -1.19639912945987,
          0.38802787487085055,
          0.801292620193891,
          -0.04952845742926826,
          0.40156961023544113,
          -2.4933280573325405,
          -0.004506584009320136,
          -0.6896172701092596,
          -1.7465980786563762,
          0.6007386401107908,
          -0.4807096221064384,
          -2.0336345050451783,
          1.005825584207173,
          -0.9956472993470982,
          -2.4565719184857855,
          -2.2691419903713026,
          -0.6710193673195732,
          -1.6114005583767508,
          0.14482622172393889,
          -0.6280859108795553,
          -0.5526390995625334,
          -2.232297918178027,
          -0.2965771944865807,
          1.2925542438831314,
          -1.044780056717002,
          -2.5736112027083493,
          -0.2495768207698532,
          0.8979973180329281,
          0.24893930400756403,
          -2.8003913033920327,
          0.1963331794499794,
          0.4213106465299319,
          -1.5895491217656996,
          -0.28457429268614476,
          -0.9746971795379125,
          -4.366506188309259,
          -2.6459803468970478,
          -0.12128206819230769,
          -4.039745872628551,
          -2.311921563454902,
          -1.0767438281782447,
          -1.112444766866716,
          0.7779243333553154,
          0.6933984040097627,
          -2.9623205610147494,
          -2.919299171228211,
          0.23220998483149913,
          -1.2755391413308743,
          -1.7700542988414796,
          -0.9313240563652769,
          -0.8597682956319161,
          -2.8458748268812215,
          -1.034821605223243,
          -0.9331706566422682,
          0.09503396425509436,
          -0.013058101958712598,
          0.3556244366769974,
          -1.2077425311613794,
          -0.048781023983821115,
          -1.7524676295368096,
          0.7033128888302684,
          -1.8464463936336202,
          -0.054760491547405366,
          -2.259227505550797,
          -2.407637011145553,
          -1.6772406515860965,
          -0.3799599903273361,
          0.6854404361493991,
          -0.23882696915737966,
          -5.207588647804968,
          -0.5690386686891316,
          -1.1202708347072914,
          -2.275649058014025,
          -0.4545934181890132,
          -3.3196157312756966,
          -1.3454681351535527,
          -4.043351139836005,
          -3.256919255204558,
          -1.4516256677438477,
          -0.9206621380993241,
          -0.21468926553672674,
          -0.6542680648068782,
          -0.8720349974719142,
          -3.2339246850887022,
          -2.5538701664138586,
          -0.41185781177866687,
          -1.5948690892303645,
          -2.8894238167469055,
          -1.7216469915803785,
          -0.6081030578821256,
          -0.2701752071929491,
          -1.30545846248544,
          -2.7227681417485528,
          -4.500450658400936,
          -2.7086548396315564,
          -1.4829958891160473,
          -1.5355140803271112,
          -1.7577875970014745,
          -2.2093253313988015,
          1.0283145375805134,
          -0.7444437116665554,
          -1.3661104882499089,
          -0.7619644309613349,
          -0.36802303853679064,
          -0.6516080810745422,
          -1.5959682560619015,
          -1.3137901470685236,
          -1.3870166413858271,
          -3.4330717316274217,
          -1.992107982149527,
          -0.6808019521202979,
          0.7298687594803113,
          -1.2994350282485883,
          -2.9259601222273517,
          0.23447426850447783,
          -0.7781221833849941,
          -0.19184857877728945,
          -1.2497087207896413,
          -1.898810701488273,
          -0.5591022005319957,
          -0.6016179735760332,
          0.41526522895645,
          -1.4870628063927498,
          0.18433027764954346,
          -1.976829563191103,
          -0.9083514695860515,
          -3.6375387456308133,
          -0.6367253621754685,
          -1.321594231572469,
          0.8139770054298836,
          -1.7645584646837662,
          1.1329332366066538,
          0.06128954252676522,
          -0.6012882235265664,
          -1.0034294005144062,
          0.5710171689859038,
          -0.1786805601354189,
          -2.887797049836223,
          0.23992613598891666,
          0.4711248873353995,
          -3.4051528941062656,
          -3.4200575963419695,
          -0.1598188573061563,
          -2.255116621600827,
          -0.7044120556618054,
          -1.2345841851876287,
          -2.8133834553408548,
          -0.1996966299544951,
          -1.022554903383238,
          -0.8500516608410891,
          0.4392710325573148,
          -2.7014882718899074,
          -2.9960429994064555,
          -1.5288311459913402,
          -3.133219019982853,
          1.13840708742773,
          -2.6193585262371073,
          -3.0883730132559535,
          -0.03383235507484983,
          0.3978324430081983,
          -0.999758183297061,
          -0.585218404449428,
          -1.8125261052122426,
          -3.493635824045377,
          -1.3559761700630943,
          -2.9324671898700814,
          -0.8482050605640907,
          -0.18167029391720746,
          1.4805117720767669,
          -2.2580843720459853,
          -2.3812130405152843,
          0.05003407417177641,
          -0.2643056563125157,
          -3.040295456044312,
          -2.5007364417771356,
          0.12029281804392156,
          1.5201257446855294,
          -3.539580997603821,
          -1.1452439051199192,
          -1.8909626503110601,
          -2.690892303633845,
          -0.569566268768277,
          -0.7849590010771834,
          -1.4205632130844847,
          -2.4774121216118132,
          -0.8248147903888849,
          -1.2797379586273578,
          -1.9601661940249286,
          -0.1125986502231342,
          -0.47090505396909066,
          -1.6501571808569082,
          -0.12708566906285057,
          -0.8179559893600654,
          -2.9475257754621964,
          -1.417199762579962,
          0.492536657213833,
          -0.29567587768471526,
          -1.0007694167820773,
          -0.9073622194376654,
          -1.2451361867704307,
          -0.7328804765987371,
          -2.433973048429287,
          0.10433291564994107,
          -0.6576974653212844,
          -1.9845237310118904,
          -0.8755083646595878,
          -1.017234935918573,
          -2.099936248323772,
          -2.7236035085405277,
          -3.6692607003891027,
          -1.5191364945371362,
          -1.273077007628217,
          -1.505133109103305,
          0.8828947657675457,
          -0.6595440655982827,
          -3.427290114093516,
          -4.020554419749828,
          -0.631449361384071,
          -2.3914133087119964,
          -1.9673987117764753,
          -0.5966497394974581,
          -2.4367869155180415,
          -2.1427158214073714,
          -0.3158126140385633,
          -2.1004858317395403,
          -0.31390006375167445,
          1.386401107960161,
          0.5961441227549571,
          -2.378157356723605,
          -3.6380663457099516,
          -1.3623073710127755,
          -0.5042757589746998,
          1.2102925982105575,
          -1.9373035239288612,
          -1.3667919716854655,
          0.03552507199542987,
          -0.522390028358501,
          -1.2879597265272977,
          0.19664094616280892,
          0.015828002374199457,
          -0.9887884983182786,
          -2.0033194838312554,
          -1.4393149992305823,
          -2.32381454857218,
          -3.4354459319835584,
          -5.51159621007276,
          -1.5913737387060607,
          -0.7231858251445402,
          -0.6403306293829232,
          -2.737233177251646,
          -0.40726329442282605,
          -2.8214953065576225,
          0.5954626393194005,
          -1.040515289410628,
          -1.1109059333025613,
          -0.5307436962782148,
          -0.4426344830618376,
          -1.262876739431512,
          -1.0957813977005415,
          -1.2457077535228294,
          0.12413990195431523,
          -0.21433753215062978,
          -1.1776913099870328,
          -1.4935259073622191,
          -3.1600386906724722,
          0.7038185055727766,
          -1.2615137725603986,
          -2.2926861439029196,
          -2.7174921409571553,
          0.4037899272351524,
          0.021653586581372508,
          -1.1975642463013045,
          -0.9876893314867345,
          -1.2739123744201848,
          -0.39906350985952344,
          -2.2770120248851384,
          -1.2847941260524536,
          -1.2262305172679149,
          -2.2425861197212527,
          -2.2766822748356716,
          -2.2588098221548094,
          -3.1009035151355278,
          -1.9835344808635114,
          -3.2216579832487042,
          0.5547055332058335,
          -0.7564905801402517,
          -0.8067225043417068,
          -2.950141792521272,
          0.13372463672536128,
          -3.116973334212666,
          -3.950845259293459,
          1.0961770977598988,
          -2.2492470707203935,
          -1.8639671129283997,
          -1.3214403482160506,
          -0.8396755259513284,
          -2.019653102947963,
          -0.9007452351117848,
          -1.7211193915012473,
          -0.26894414034162395,
          0.6491019806986316,
          -1.6732836509925448,
          -2.7652839147925903,
          -1.5995515399327331,
          -0.0351073885994424,
          0.18846314493614358,
          -2.241047286157091,
          -0.32517751544329343,
          -2.4527028512387616,
          -1.8178680560135447,
          -0.8146145221921799,
          -1.61784167600959,
          -0.8573721119391564,
          -1.4094836114225373,
          0.2778034250038459,
          -1.748994262349143,
          0.058453692101387844,
          -1.056057508408628,
          -0.3330255666204991,
          0.1929037789355661,
          -0.5388555474950039,
          -1.3937655257314958,
          -0.10409109894699498,
          -2.5820308206379536,
          -1.1914528787179322,
          -0.8259799072303196,
          0.3189562311767702,
          -1.9005913517553736,
          -0.6004748400712216,
          -1.0178724526808622,
          0.2738464244103014,
          -1.3396205676097495,
          -0.30677746268328576,
          0.6261953439292967,
          -3.3439512849260282,
          0.9301589395238423,
          -1.1814284772142756,
          -3.2359251687221118,
          -1.0692475103871288,
          -0.33148673305634446,
          -0.4368748488645622,
          -0.26426168963924823,
          -2.473125370968802,
          -1.2481918705621098,
          0.46872870364263974,
          -1.9894699817538282,
          -2.399261359889209,
          -3.3017872452680876,
          -1.9098023698036855,
          -0.7370133438853372,
          -4.99762579964387,
          -0.6627975994196404,
          -1.202818263756079,
          -4.376706456505964,
          1.318450614434262,
          -0.03066675460001278,
          -0.02563257051155432,
          -2.2962914111103814,
          -2.9563630767877953,
          -0.27943019191452834,
          -0.38294972410912465,
          -2.0569808085471237,
          -1.844357976653697,
          -0.9712897623601364,
          0.06016839235859095,
          -0.26041460572885455,
          -1.8416100595748404,
          0.5453406318010963,
          -0.02152168656159148,
          0.5456483985139258,
          -2.8159115390533955,
          -1.6581591153905322,
          0.5014618918859526,
          0.24014596935522547,
          -0.173360592670754,
          -1.1101145331838467,
          0.22915430103981294,
          1.5764470531337267,
          -1.3238365319088103,
          0.6259535272263648,
          -3.7107212732748565,
          0.14878322231748342,
          -2.6758117347050927,
          -1.2358812020488443,
          -0.38068544043615304,
          -0.4333575150036282,
          -0.4081426278880613,
          -1.6673261667655908,
          -1.2392446525533671,
          -1.6175558926333835,
          -0.6076414078128778,
          0.393062058959309,
          0.09175844709710645,
          -2.7892017850469344,
          -0.396821209523182,
          -0.2922684605069392,
          -0.8426872430697543,
          -2.0127723185825204,
          -2.671986634131329,
          -1.343929301589391,
          -1.5075073094594345,
          -1.3891710083756479,
          1.5059025258853822,
          -0.19481632922244785,
          -2.40385587724505,
          -1.5431862648112755,
          -0.088438963265844,
          -0.17892237683835788,
          -1.1964870628063906,
          -1.2058299808744977,
          -0.2882235265668598,
          -3.5011101584998627,
          -1.5467695486821,
          -0.1534876563564822,
          -1.7992042032139608,
          1.0980676647101504,
          -2.238607135791071,
          -0.5123216601815841,
          -0.6735034843588537,
          -2.7792433335531683,
          -1.7324627932027568,
          -0.9061971025962379,
          -0.5276880124865357,
          0.027984787531053712,
          -0.47484007122601213,
          -1.371100705665107,
          -0.6978610213458154,
          -0.2674932401239829,
          -0.5336015300402295,
          1.5723361691837638,
          -0.017454769284881877,
          -2.025874387214486,
          -0.3640000879333414,
          -4.645057046758559,
          -1.499835124975263,
          -1.8509749609795776,
          -1.4224757633713594,
          -0.05733254193321358,
          -0.09987029831388128,
          -2.048781023983814,
          -3.8196926729538987,
          -1.0618171426059035,
          -1.8213194398645811,
          -0.7408384444591007,
          -2.726813075688632,
          -0.6200839763459314,
          -1.2627008727384634,
          0.4120556618083526,
          -1.2755391413308743
         ],
         "xaxis": "x2",
         "yaxis": "y2"
        }
       ],
       "layout": {
        "barmode": "relative",
        "legend": {
         "tracegroupgap": 0
        },
        "template": {
         "data": {
          "bar": [
           {
            "error_x": {
             "color": "#2a3f5f"
            },
            "error_y": {
             "color": "#2a3f5f"
            },
            "marker": {
             "line": {
              "color": "#E5ECF6",
              "width": 0.5
             },
             "pattern": {
              "fillmode": "overlay",
              "size": 10,
              "solidity": 0.2
             }
            },
            "type": "bar"
           }
          ],
          "barpolar": [
           {
            "marker": {
             "line": {
              "color": "#E5ECF6",
              "width": 0.5
             },
             "pattern": {
              "fillmode": "overlay",
              "size": 10,
              "solidity": 0.2
             }
            },
            "type": "barpolar"
           }
          ],
          "carpet": [
           {
            "aaxis": {
             "endlinecolor": "#2a3f5f",
             "gridcolor": "white",
             "linecolor": "white",
             "minorgridcolor": "white",
             "startlinecolor": "#2a3f5f"
            },
            "baxis": {
             "endlinecolor": "#2a3f5f",
             "gridcolor": "white",
             "linecolor": "white",
             "minorgridcolor": "white",
             "startlinecolor": "#2a3f5f"
            },
            "type": "carpet"
           }
          ],
          "choropleth": [
           {
            "colorbar": {
             "outlinewidth": 0,
             "ticks": ""
            },
            "type": "choropleth"
           }
          ],
          "contour": [
           {
            "colorbar": {
             "outlinewidth": 0,
             "ticks": ""
            },
            "colorscale": [
             [
              0,
              "#0d0887"
             ],
             [
              0.1111111111111111,
              "#46039f"
             ],
             [
              0.2222222222222222,
              "#7201a8"
             ],
             [
              0.3333333333333333,
              "#9c179e"
             ],
             [
              0.4444444444444444,
              "#bd3786"
             ],
             [
              0.5555555555555556,
              "#d8576b"
             ],
             [
              0.6666666666666666,
              "#ed7953"
             ],
             [
              0.7777777777777778,
              "#fb9f3a"
             ],
             [
              0.8888888888888888,
              "#fdca26"
             ],
             [
              1,
              "#f0f921"
             ]
            ],
            "type": "contour"
           }
          ],
          "contourcarpet": [
           {
            "colorbar": {
             "outlinewidth": 0,
             "ticks": ""
            },
            "type": "contourcarpet"
           }
          ],
          "heatmap": [
           {
            "colorbar": {
             "outlinewidth": 0,
             "ticks": ""
            },
            "colorscale": [
             [
              0,
              "#0d0887"
             ],
             [
              0.1111111111111111,
              "#46039f"
             ],
             [
              0.2222222222222222,
              "#7201a8"
             ],
             [
              0.3333333333333333,
              "#9c179e"
             ],
             [
              0.4444444444444444,
              "#bd3786"
             ],
             [
              0.5555555555555556,
              "#d8576b"
             ],
             [
              0.6666666666666666,
              "#ed7953"
             ],
             [
              0.7777777777777778,
              "#fb9f3a"
             ],
             [
              0.8888888888888888,
              "#fdca26"
             ],
             [
              1,
              "#f0f921"
             ]
            ],
            "type": "heatmap"
           }
          ],
          "heatmapgl": [
           {
            "colorbar": {
             "outlinewidth": 0,
             "ticks": ""
            },
            "colorscale": [
             [
              0,
              "#0d0887"
             ],
             [
              0.1111111111111111,
              "#46039f"
             ],
             [
              0.2222222222222222,
              "#7201a8"
             ],
             [
              0.3333333333333333,
              "#9c179e"
             ],
             [
              0.4444444444444444,
              "#bd3786"
             ],
             [
              0.5555555555555556,
              "#d8576b"
             ],
             [
              0.6666666666666666,
              "#ed7953"
             ],
             [
              0.7777777777777778,
              "#fb9f3a"
             ],
             [
              0.8888888888888888,
              "#fdca26"
             ],
             [
              1,
              "#f0f921"
             ]
            ],
            "type": "heatmapgl"
           }
          ],
          "histogram": [
           {
            "marker": {
             "pattern": {
              "fillmode": "overlay",
              "size": 10,
              "solidity": 0.2
             }
            },
            "type": "histogram"
           }
          ],
          "histogram2d": [
           {
            "colorbar": {
             "outlinewidth": 0,
             "ticks": ""
            },
            "colorscale": [
             [
              0,
              "#0d0887"
             ],
             [
              0.1111111111111111,
              "#46039f"
             ],
             [
              0.2222222222222222,
              "#7201a8"
             ],
             [
              0.3333333333333333,
              "#9c179e"
             ],
             [
              0.4444444444444444,
              "#bd3786"
             ],
             [
              0.5555555555555556,
              "#d8576b"
             ],
             [
              0.6666666666666666,
              "#ed7953"
             ],
             [
              0.7777777777777778,
              "#fb9f3a"
             ],
             [
              0.8888888888888888,
              "#fdca26"
             ],
             [
              1,
              "#f0f921"
             ]
            ],
            "type": "histogram2d"
           }
          ],
          "histogram2dcontour": [
           {
            "colorbar": {
             "outlinewidth": 0,
             "ticks": ""
            },
            "colorscale": [
             [
              0,
              "#0d0887"
             ],
             [
              0.1111111111111111,
              "#46039f"
             ],
             [
              0.2222222222222222,
              "#7201a8"
             ],
             [
              0.3333333333333333,
              "#9c179e"
             ],
             [
              0.4444444444444444,
              "#bd3786"
             ],
             [
              0.5555555555555556,
              "#d8576b"
             ],
             [
              0.6666666666666666,
              "#ed7953"
             ],
             [
              0.7777777777777778,
              "#fb9f3a"
             ],
             [
              0.8888888888888888,
              "#fdca26"
             ],
             [
              1,
              "#f0f921"
             ]
            ],
            "type": "histogram2dcontour"
           }
          ],
          "mesh3d": [
           {
            "colorbar": {
             "outlinewidth": 0,
             "ticks": ""
            },
            "type": "mesh3d"
           }
          ],
          "parcoords": [
           {
            "line": {
             "colorbar": {
              "outlinewidth": 0,
              "ticks": ""
             }
            },
            "type": "parcoords"
           }
          ],
          "pie": [
           {
            "automargin": true,
            "type": "pie"
           }
          ],
          "scatter": [
           {
            "fillpattern": {
             "fillmode": "overlay",
             "size": 10,
             "solidity": 0.2
            },
            "type": "scatter"
           }
          ],
          "scatter3d": [
           {
            "line": {
             "colorbar": {
              "outlinewidth": 0,
              "ticks": ""
             }
            },
            "marker": {
             "colorbar": {
              "outlinewidth": 0,
              "ticks": ""
             }
            },
            "type": "scatter3d"
           }
          ],
          "scattercarpet": [
           {
            "marker": {
             "colorbar": {
              "outlinewidth": 0,
              "ticks": ""
             }
            },
            "type": "scattercarpet"
           }
          ],
          "scattergeo": [
           {
            "marker": {
             "colorbar": {
              "outlinewidth": 0,
              "ticks": ""
             }
            },
            "type": "scattergeo"
           }
          ],
          "scattergl": [
           {
            "marker": {
             "colorbar": {
              "outlinewidth": 0,
              "ticks": ""
             }
            },
            "type": "scattergl"
           }
          ],
          "scattermapbox": [
           {
            "marker": {
             "colorbar": {
              "outlinewidth": 0,
              "ticks": ""
             }
            },
            "type": "scattermapbox"
           }
          ],
          "scatterpolar": [
           {
            "marker": {
             "colorbar": {
              "outlinewidth": 0,
              "ticks": ""
             }
            },
            "type": "scatterpolar"
           }
          ],
          "scatterpolargl": [
           {
            "marker": {
             "colorbar": {
              "outlinewidth": 0,
              "ticks": ""
             }
            },
            "type": "scatterpolargl"
           }
          ],
          "scatterternary": [
           {
            "marker": {
             "colorbar": {
              "outlinewidth": 0,
              "ticks": ""
             }
            },
            "type": "scatterternary"
           }
          ],
          "surface": [
           {
            "colorbar": {
             "outlinewidth": 0,
             "ticks": ""
            },
            "colorscale": [
             [
              0,
              "#0d0887"
             ],
             [
              0.1111111111111111,
              "#46039f"
             ],
             [
              0.2222222222222222,
              "#7201a8"
             ],
             [
              0.3333333333333333,
              "#9c179e"
             ],
             [
              0.4444444444444444,
              "#bd3786"
             ],
             [
              0.5555555555555556,
              "#d8576b"
             ],
             [
              0.6666666666666666,
              "#ed7953"
             ],
             [
              0.7777777777777778,
              "#fb9f3a"
             ],
             [
              0.8888888888888888,
              "#fdca26"
             ],
             [
              1,
              "#f0f921"
             ]
            ],
            "type": "surface"
           }
          ],
          "table": [
           {
            "cells": {
             "fill": {
              "color": "#EBF0F8"
             },
             "line": {
              "color": "white"
             }
            },
            "header": {
             "fill": {
              "color": "#C8D4E3"
             },
             "line": {
              "color": "white"
             }
            },
            "type": "table"
           }
          ]
         },
         "layout": {
          "annotationdefaults": {
           "arrowcolor": "#2a3f5f",
           "arrowhead": 0,
           "arrowwidth": 1
          },
          "autotypenumbers": "strict",
          "coloraxis": {
           "colorbar": {
            "outlinewidth": 0,
            "ticks": ""
           }
          },
          "colorscale": {
           "diverging": [
            [
             0,
             "#8e0152"
            ],
            [
             0.1,
             "#c51b7d"
            ],
            [
             0.2,
             "#de77ae"
            ],
            [
             0.3,
             "#f1b6da"
            ],
            [
             0.4,
             "#fde0ef"
            ],
            [
             0.5,
             "#f7f7f7"
            ],
            [
             0.6,
             "#e6f5d0"
            ],
            [
             0.7,
             "#b8e186"
            ],
            [
             0.8,
             "#7fbc41"
            ],
            [
             0.9,
             "#4d9221"
            ],
            [
             1,
             "#276419"
            ]
           ],
           "sequential": [
            [
             0,
             "#0d0887"
            ],
            [
             0.1111111111111111,
             "#46039f"
            ],
            [
             0.2222222222222222,
             "#7201a8"
            ],
            [
             0.3333333333333333,
             "#9c179e"
            ],
            [
             0.4444444444444444,
             "#bd3786"
            ],
            [
             0.5555555555555556,
             "#d8576b"
            ],
            [
             0.6666666666666666,
             "#ed7953"
            ],
            [
             0.7777777777777778,
             "#fb9f3a"
            ],
            [
             0.8888888888888888,
             "#fdca26"
            ],
            [
             1,
             "#f0f921"
            ]
           ],
           "sequentialminus": [
            [
             0,
             "#0d0887"
            ],
            [
             0.1111111111111111,
             "#46039f"
            ],
            [
             0.2222222222222222,
             "#7201a8"
            ],
            [
             0.3333333333333333,
             "#9c179e"
            ],
            [
             0.4444444444444444,
             "#bd3786"
            ],
            [
             0.5555555555555556,
             "#d8576b"
            ],
            [
             0.6666666666666666,
             "#ed7953"
            ],
            [
             0.7777777777777778,
             "#fb9f3a"
            ],
            [
             0.8888888888888888,
             "#fdca26"
            ],
            [
             1,
             "#f0f921"
            ]
           ]
          },
          "colorway": [
           "#636efa",
           "#EF553B",
           "#00cc96",
           "#ab63fa",
           "#FFA15A",
           "#19d3f3",
           "#FF6692",
           "#B6E880",
           "#FF97FF",
           "#FECB52"
          ],
          "font": {
           "color": "#2a3f5f"
          },
          "geo": {
           "bgcolor": "white",
           "lakecolor": "white",
           "landcolor": "#E5ECF6",
           "showlakes": true,
           "showland": true,
           "subunitcolor": "white"
          },
          "hoverlabel": {
           "align": "left"
          },
          "hovermode": "closest",
          "mapbox": {
           "style": "light"
          },
          "paper_bgcolor": "white",
          "plot_bgcolor": "#E5ECF6",
          "polar": {
           "angularaxis": {
            "gridcolor": "white",
            "linecolor": "white",
            "ticks": ""
           },
           "bgcolor": "#E5ECF6",
           "radialaxis": {
            "gridcolor": "white",
            "linecolor": "white",
            "ticks": ""
           }
          },
          "scene": {
           "xaxis": {
            "backgroundcolor": "#E5ECF6",
            "gridcolor": "white",
            "gridwidth": 2,
            "linecolor": "white",
            "showbackground": true,
            "ticks": "",
            "zerolinecolor": "white"
           },
           "yaxis": {
            "backgroundcolor": "#E5ECF6",
            "gridcolor": "white",
            "gridwidth": 2,
            "linecolor": "white",
            "showbackground": true,
            "ticks": "",
            "zerolinecolor": "white"
           },
           "zaxis": {
            "backgroundcolor": "#E5ECF6",
            "gridcolor": "white",
            "gridwidth": 2,
            "linecolor": "white",
            "showbackground": true,
            "ticks": "",
            "zerolinecolor": "white"
           }
          },
          "shapedefaults": {
           "line": {
            "color": "#2a3f5f"
           }
          },
          "ternary": {
           "aaxis": {
            "gridcolor": "white",
            "linecolor": "white",
            "ticks": ""
           },
           "baxis": {
            "gridcolor": "white",
            "linecolor": "white",
            "ticks": ""
           },
           "bgcolor": "#E5ECF6",
           "caxis": {
            "gridcolor": "white",
            "linecolor": "white",
            "ticks": ""
           }
          },
          "title": {
           "x": 0.05
          },
          "xaxis": {
           "automargin": true,
           "gridcolor": "white",
           "linecolor": "white",
           "ticks": "",
           "title": {
            "standoff": 15
           },
           "zerolinecolor": "white",
           "zerolinewidth": 2
          },
          "yaxis": {
           "automargin": true,
           "gridcolor": "white",
           "linecolor": "white",
           "ticks": "",
           "title": {
            "standoff": 15
           },
           "zerolinecolor": "white",
           "zerolinewidth": 2
          }
         }
        },
        "title": {
         "text": "sample of mean diff"
        },
        "xaxis": {
         "anchor": "y",
         "domain": [
          0,
          1
         ],
         "title": {
          "text": "mean"
         }
        },
        "xaxis2": {
         "anchor": "y2",
         "domain": [
          0,
          1
         ],
         "matches": "x",
         "showgrid": true,
         "showticklabels": false
        },
        "yaxis": {
         "anchor": "x",
         "domain": [
          0,
          0.8316
         ],
         "title": {
          "text": "count"
         }
        },
        "yaxis2": {
         "anchor": "x2",
         "domain": [
          0.8416,
          1
         ],
         "matches": "y2",
         "showgrid": false,
         "showline": false,
         "showticklabels": false,
         "ticks": ""
        }
       }
      },
      "text/html": [
       "<div>                            <div id=\"d46f0b36-56b8-463c-9e83-e66d73219b2d\" class=\"plotly-graph-div\" style=\"height:525px; width:100%;\"></div>            <script type=\"text/javascript\">                require([\"plotly\"], function(Plotly) {                    window.PLOTLYENV=window.PLOTLYENV || {};                                    if (document.getElementById(\"d46f0b36-56b8-463c-9e83-e66d73219b2d\")) {                    Plotly.newPlot(                        \"d46f0b36-56b8-463c-9e83-e66d73219b2d\",                        [{\"alignmentgroup\":\"True\",\"bingroup\":\"x\",\"hovertemplate\":\"mean=%{x}<br>count=%{y}<extra></extra>\",\"legendgroup\":\"\",\"marker\":{\"color\":\"#636efa\",\"pattern\":{\"shape\":\"\"}},\"name\":\"\",\"nbinsx\":50,\"offsetgroup\":\"\",\"orientation\":\"v\",\"showlegend\":false,\"x\":[-3.117808701004641,-2.3784431400998045,1.176152476422871,-0.9878871815164132,-1.6162588757721608,0.35791070368660627,0.5158829607157784,0.5505067159093429,-0.5800962870144417,-0.2866407263294377,0.031436171382090095,-0.7675921651388222,-0.38591747455429015,-0.16916177537426336,0.018312119413486982,0.23056123458418654,-1.0116951350876064,-0.9342258568005448,0.310206863197692,0.3991514432060512,-1.8582514454043846,0.3887533249796675,-3.2731209743014844,-0.4556046516740295,-0.835124975268748,-0.3891490250390248,-0.6077733078326659,-0.9510870759963908,-2.4222119633317902,-2.2845742926861448,0.7511266460023265,0.21141374837873173,-0.5823825540240506,-1.97792873002264,0.36252720437907726,-3.0369539888764336,-2.020268636373629,-1.0007474334454542,1.424344346984988,-5.1212600848556775,-2.709468223086901,-1.6913099870298325,-0.7587548638132304,-2.1946404625294065,-2.308755962980058,-1.0547385082107752,-1.858779045483523,-1.5271384290707672,-0.18699026138187236,-0.1343401701510274,1.211083998329265,-1.7564685968036287,-0.35542658664731874,-0.6534986480248008,-1.542153047989622,-0.7686693486337361,-2.326606432324297,-3.6154015256435628,-0.023280353492054928,-1.5810415704895675,-0.08243751236562957,-2.5758095363714304,-1.5299522961595144,-0.947833542175033,-0.5941436391215476,0.38136692387170257,-2.7147442238782986,0.03660225549033669,-3.4184528127679172,-6.87676141484755,-0.2858713095473675,-0.2342764184747992,-3.1583899404251596,1.2397722526325055,-0.2233946668425304,-3.182439710699292,-0.44314009980435287,-1.5693244520653309,-1.629382927740771,0.5729517026094229,-2.4622436193365402,-0.3613181208643823,-1.0868121963551616,-0.3412473345204319,-1.0331069049660329,-2.617248125920547,-2.4465914836553893,-0.8923256171821734,-0.8968102178548705,-1.0614654092198066,-0.6126755919013362,-0.8879509331926414,-2.150322055881638,0.5555189166611711,-1.762579964386994,0.420607179757738,-1.662138099320714,-1.5807557871133682,-1.159906790652684,-2.5191364945371433,-2.3413352678669597,-3.5598056673041825,-3.309987029831383,-2.047088307063248,-0.9915583987337584,-3.6666666666666714,-2.6809998021499695,-0.10398118226384412,-1.3463914352920483,-0.17876849348193957,-1.3593835872408704,-1.5463078986128522,-3.4798302886412102,-0.5230715117940576,0.2232407834861192,-3.811602805073754,-2.3483919189254507,0.40829651124447963,0.29560992767482475,-1.9143749038229032,-0.3022269120006982,-1.0266438039965706,-1.499461408252543,0.8389720591791487,1.0328431049264637,0.5539361164237491,1.9792257468838628,-2.0370419222229543,-1.107102816065428,0.8247928070522548,-0.629382927740771,-2.3361032337488155,-0.6224581767020609,-1.3795642902679717,0.055002308250344356,-0.5097496097957759,-1.6181274593857822,-0.9501857591945324,-3.743322561498381,-0.5128492602607224,-2.8290355910220057,-0.057090725230274586,-1.0683242102486332,0.5035503088658757,-0.6179515926927408,-2.908637252962258,-1.2044889973400146,-3.012024885137066,0.33564158367956765,-2.5722042691639686,-0.19158477873772028,-0.5637846512343643,-2.1281848358943876,-2.119853151311304,-1.4882718899074519,0.8500736441777121,-0.6629514827760588,-0.8012266701840005,-0.5220822616456715,-0.2204928664072625,-1.3955461759985894,-2.1475961221394186,-1.2066213809932052,-0.7872892347600526,-1.159884807316054,-0.6116423750796898,-1.5478906988502743,-1.5102991932115444,-2.1572907735936155,0.1201829013607707,-1.4767086548396335,0.7186352744619597,-2.0893622634043396,0.13040515289410592,-0.2789245751720202,-2.359471520587398,-0.5995735232693633,-3.0102662182066027,-3.205500230825031,-0.13266943656708463,-3.0097606014640874,-0.15117940601024316,-0.8049638374112433,0.8491503440392165,1.2373760689397457,-2.0424937897074003,-2.324671898700778,-1.8602079623645267,-0.33344325001648656,0.7224164083624629,-1.6679197168546267,-1.5428565147618158,-0.9588911605003361,-1.7314515597177333,-1.5250280287541997,-0.2152608322891183,-2.2228011167535016,-1.866912880036935,-0.8935786673701287,-2.9566268768273645,-0.6093341247334507,0.5346567301985061,0.011013651652049816,-1.7465101453098555,-1.3763767064565045,0.5430543647914945,-0.5813493372024041,-1.7183714744223906,-0.8535909780386461,-2.0034294005144133,-3.8346193585262327,-1.3704851722394409,-0.23078106795049536,-1.1106860999362453,-0.9201125546835556,-1.7845633010178261,-1.3105366132471588,-1.1817582272637353,-0.1333948866759016,1.3426322847281824,-0.8428631097628028,-0.49077799028336244,-1.3827079074061857,-0.8663632966211594,-1.4412934995273616,-0.9325990898898624,0.09208819714656613,-0.848358943920509,-0.1684143419288162,-0.9083075029127912,1.0403833893908399,-0.5192024445470338,0.24274000307767096,-1.0546285915276172,0.6715469673987116,-0.7376948273208939,0.13031721954758524,-0.7741431994548194,-0.39282024225637,-0.7735716327024136,-0.33797181736243687,-0.16280859108795198,-1.5871089713996795,0.507089626063447,-3.4243883136582483,-4.441755149596602,-2.2948405108927403,0.25001648750247796,-1.2938732440809915,-0.3414012178768502,-2.9367539405130856,-3.311921563454895,-1.6286574776319611,0.7399151443206051,-0.9699487788256462,0.14759612213941153,-1.098749148145707,-0.6453208467981284,-1.4373145155971798,-0.33533381696674525,-1.8387082591395725,0.3561080700828825,-2.3331794499769174,-0.42454219701466656,0.06014640902196078,-2.362747037745386,-1.6364395787992763,-0.31282288025676763,-1.5874387214491463,-0.8071401877376942,-1.774231132801333,-1.7658334982083588,0.8338939084174228,0.18769372815405916,-1.1889687616786446,-0.286794609685856,-0.9687177119743211,0.862911912770123,0.2298797511486299,-0.3332673833234452,-1.1196772846182625,-0.7642726813075669,-1.0417023895886928,-0.6145002088416973,-1.2896744267845008,-2.8168568225285213,-3.473630987711317,0.5306117962584409,-1.7023676053551426,-1.7211413748378774,0.2658664732133005,-3.39730484292906,0.7091384730374415,-2.641979379630243,-0.5596298006111411,-2.3332234166501777,-2.3962716261074135,-0.01833410275011005,0.4586163687924554,-3.7105893732550754,-0.7825848007210539,-1.3722438391699043,-1.7454329618149487,-2.8418958429510397,-0.19373914572754103,-0.6857042361889683,-5.715733474026685,-1.5461979819297014,-2.0437468398953555,-0.18072501044208167,-2.78357405086944,0.12211743498428262,-0.20453296401328203,-0.2455318868297809,-0.28338719250808,-0.5161907274286079,-2.5109147266372105,-1.6882982699114066,-2.5772824199256945,-1.8096902547868652,-0.26573457319351945,-1.187671744817429,-3.641012112818487,0.753500846358456,-1.544835015058581,0.3857416078612417,-6.4923388071841615,-0.8287278243091691,-0.6694585504187813,1.0017586669304706,0.28270570907252335,-0.09600123106685032,-2.0926157972257045,-1.2257249005254067,-0.17454769284882587,0.10521224911516924,-0.5301061795159256,-1.0957374310272812,-0.0241596869572831,-2.76974653212865,-1.7408164611224706,-1.6640506496075957,-3.5532326496515694,0.40677966101694807,0.041218756182814786,-0.2642836729758855,-0.7226362417287717,0.7143705071555786,0.7455428784980995,1.0106179515926925,-0.9087911363186691,-3.138319154081209,0.23823341906835083,-2.633603728373892,-0.3566356701620208,0.34821605223240937,-0.9682340785684431,0.014750818879292638,-2.216074215744463,-0.22891248433687394,-0.9472180087493669,-0.5766668865000284,-0.04086702279672494,-0.3907318252764398,0.9967904328519026,-0.5182351777352778,-0.5780078700345115,-1.013717602057639,-1.3598892039833785,-0.18962826177757108,-1.9780826133790583,-2.3522170194992214,-0.21433753215062978,-2.092286047176245,-0.51122249335004,0.9153641539712893,-3.324627932027525,-0.871771197432345,-2.5764250697970965,-0.8618127459385789,-0.5861636879245538,1.117303084262133,0.09019763019631455,-0.7945437358482295,1.571742619094728,-2.560838884125829,0.17228340917584006,-1.162434874365232,-0.9248829387324378,-2.250654004264767,-0.337861900679286,-1.6938820374156407,0.5815911539053431,-1.6981468047220218,-1.7362878937765203,-2.232583701554219,-1.6481347138868756,-2.007870034513843,-0.5920991888148777,0.017103035898784924,-1.7082591395722062,-2.074369627822108,-1.3196816812855872,-2.4626173360592674,-1.0142452021367774,1.0712699773571686,0.41759546263931924,-0.7586669304667097,-1.7723185825144512,-0.6788014684868884,-2.407878827848485,-3.764998131416391,-0.06874189364462069,2.0236101035415146,-0.3497329024599338,-0.9197388379608284,-2.2792982918947473,-2.1088834663325216,-3.4310932313306495,-2.4356217986766,-1.3560421200729849,-1.6212930598606263,0.04922069071643165,0.14601332190199656,-2.1724812592055187,-0.22930818439623124,2.3131965969794948,-0.6235133768603376,-0.8856426828464024,-0.41267119523401163,-2.357009386884741,-2.900657301765257,-1.818263756072902,-0.8721229308184348,-1.497878608015121,-2.795576952669876,-0.49374574072852795,-0.7263514256193773,-2.1606762074347685,-2.8058431708764786,-0.12992151948822794,-0.2595792389368867,-0.3812789905251819,0.07918397854426473,-1.6294268944140384,-2.235133768603397,0.08008529534612308,-1.7138648904130633,-2.4403482160522287,0.5896590384488576,-2.001956516960142,-0.6031128404669275,-0.6896612367825199,-1.2699993404999006,0.004440633999429622,-0.6334278616808433,-1.33896106751083,-1.4099892281650526,-2.389676625118163,0.15931324056364815,-1.126272285607513,-2.468992503682209,-0.45549473499087867,-1.9008331684583055,-1.958253643738047,0.07085229396117398,-2.6336696783837823,-3.044999890083318,-2.6905625535843853,-0.5991558398733758,0.5317329464266081,-1.8489744773461751,-0.4902064235309638,-0.7126997735716358,-0.6364835454725366,-1.9846776143683087,-1.2775396249642768,-0.11923761788564491,-2.327551715799423,-0.9910527819912502,0.05429884147816466,-1.266042339906349,-1.7815296005627772,-2.1097408164611196,-1.867044780056716,-2.1262283189342455,-2.86157092923564,-0.5215766449031634,-1.7961045527490214,-2.60511332410033,-0.901118951834512,0.12053463474686765,-0.904768185715227,-0.3134603970190639,-0.6147200422080061,-0.7429048781024008,-1.8468640770296147,0.07773307832663079,-0.21671173250675935,-4.000593550089036,0.04453824001407014,-1.086856163028422,-3.882784849084395,-2.937413440612019,-0.809778188133393,-1.77009826551474,-0.8216272065774106,-1.3946008925234707,-1.1535536063663727,-0.00030776671282950474,-2.2827057090725233,-1.757963463694523,0.027764954164744893,-2.4294224977467067,-0.4075270944624023,0.19534392930158617,1.7175361076304227,0.448987667348149,-1.275275341291298,-2.306579612653607,-0.6663149332805745,-0.7977972696695943,0.039789839301811014,-2.6048275407241306,0.021147969838864356,0.08496559607817744,-2.7479390621908593,-3.2156125656752224,-1.0183341027501172,-1.8475675438017944,-3.1198311679746737,-2.12044670140034,-1.8341357251203547,-0.9800391303392004,-4.291147310338758,-0.5240167952691834,-0.16291850777110994,0.9689595286772601,-1.9945701158521842,-0.04126272285607513,-1.0407131394402995,-0.26918595704456294,0.46598078656378306,0.12629426894413598,0.0992987315614755,0.44995493415991206,-0.38624722460374983,-0.6162368924355306,-1.3396425509463867,-3.335311833630108,0.020158719690478222,-1.19639912945987,0.38802787487085055,0.801292620193891,-0.04952845742926826,0.40156961023544113,-2.4933280573325405,-0.004506584009320136,-0.6896172701092596,-1.7465980786563762,0.6007386401107908,-0.4807096221064384,-2.0336345050451783,1.005825584207173,-0.9956472993470982,-2.4565719184857855,-2.2691419903713026,-0.6710193673195732,-1.6114005583767508,0.14482622172393889,-0.6280859108795553,-0.5526390995625334,-2.232297918178027,-0.2965771944865807,1.2925542438831314,-1.044780056717002,-2.5736112027083493,-0.2495768207698532,0.8979973180329281,0.24893930400756403,-2.8003913033920327,0.1963331794499794,0.4213106465299319,-1.5895491217656996,-0.28457429268614476,-0.9746971795379125,-4.366506188309259,-2.6459803468970478,-0.12128206819230769,-4.039745872628551,-2.311921563454902,-1.0767438281782447,-1.112444766866716,0.7779243333553154,0.6933984040097627,-2.9623205610147494,-2.919299171228211,0.23220998483149913,-1.2755391413308743,-1.7700542988414796,-0.9313240563652769,-0.8597682956319161,-2.8458748268812215,-1.034821605223243,-0.9331706566422682,0.09503396425509436,-0.013058101958712598,0.3556244366769974,-1.2077425311613794,-0.048781023983821115,-1.7524676295368096,0.7033128888302684,-1.8464463936336202,-0.054760491547405366,-2.259227505550797,-2.407637011145553,-1.6772406515860965,-0.3799599903273361,0.6854404361493991,-0.23882696915737966,-5.207588647804968,-0.5690386686891316,-1.1202708347072914,-2.275649058014025,-0.4545934181890132,-3.3196157312756966,-1.3454681351535527,-4.043351139836005,-3.256919255204558,-1.4516256677438477,-0.9206621380993241,-0.21468926553672674,-0.6542680648068782,-0.8720349974719142,-3.2339246850887022,-2.5538701664138586,-0.41185781177866687,-1.5948690892303645,-2.8894238167469055,-1.7216469915803785,-0.6081030578821256,-0.2701752071929491,-1.30545846248544,-2.7227681417485528,-4.500450658400936,-2.7086548396315564,-1.4829958891160473,-1.5355140803271112,-1.7577875970014745,-2.2093253313988015,1.0283145375805134,-0.7444437116665554,-1.3661104882499089,-0.7619644309613349,-0.36802303853679064,-0.6516080810745422,-1.5959682560619015,-1.3137901470685236,-1.3870166413858271,-3.4330717316274217,-1.992107982149527,-0.6808019521202979,0.7298687594803113,-1.2994350282485883,-2.9259601222273517,0.23447426850447783,-0.7781221833849941,-0.19184857877728945,-1.2497087207896413,-1.898810701488273,-0.5591022005319957,-0.6016179735760332,0.41526522895645,-1.4870628063927498,0.18433027764954346,-1.976829563191103,-0.9083514695860515,-3.6375387456308133,-0.6367253621754685,-1.321594231572469,0.8139770054298836,-1.7645584646837662,1.1329332366066538,0.06128954252676522,-0.6012882235265664,-1.0034294005144062,0.5710171689859038,-0.1786805601354189,-2.887797049836223,0.23992613598891666,0.4711248873353995,-3.4051528941062656,-3.4200575963419695,-0.1598188573061563,-2.255116621600827,-0.7044120556618054,-1.2345841851876287,-2.8133834553408548,-0.1996966299544951,-1.022554903383238,-0.8500516608410891,0.4392710325573148,-2.7014882718899074,-2.9960429994064555,-1.5288311459913402,-3.133219019982853,1.13840708742773,-2.6193585262371073,-3.0883730132559535,-0.03383235507484983,0.3978324430081983,-0.999758183297061,-0.585218404449428,-1.8125261052122426,-3.493635824045377,-1.3559761700630943,-2.9324671898700814,-0.8482050605640907,-0.18167029391720746,1.4805117720767669,-2.2580843720459853,-2.3812130405152843,0.05003407417177641,-0.2643056563125157,-3.040295456044312,-2.5007364417771356,0.12029281804392156,1.5201257446855294,-3.539580997603821,-1.1452439051199192,-1.8909626503110601,-2.690892303633845,-0.569566268768277,-0.7849590010771834,-1.4205632130844847,-2.4774121216118132,-0.8248147903888849,-1.2797379586273578,-1.9601661940249286,-0.1125986502231342,-0.47090505396909066,-1.6501571808569082,-0.12708566906285057,-0.8179559893600654,-2.9475257754621964,-1.417199762579962,0.492536657213833,-0.29567587768471526,-1.0007694167820773,-0.9073622194376654,-1.2451361867704307,-0.7328804765987371,-2.433973048429287,0.10433291564994107,-0.6576974653212844,-1.9845237310118904,-0.8755083646595878,-1.017234935918573,-2.099936248323772,-2.7236035085405277,-3.6692607003891027,-1.5191364945371362,-1.273077007628217,-1.505133109103305,0.8828947657675457,-0.6595440655982827,-3.427290114093516,-4.020554419749828,-0.631449361384071,-2.3914133087119964,-1.9673987117764753,-0.5966497394974581,-2.4367869155180415,-2.1427158214073714,-0.3158126140385633,-2.1004858317395403,-0.31390006375167445,1.386401107960161,0.5961441227549571,-2.378157356723605,-3.6380663457099516,-1.3623073710127755,-0.5042757589746998,1.2102925982105575,-1.9373035239288612,-1.3667919716854655,0.03552507199542987,-0.522390028358501,-1.2879597265272977,0.19664094616280892,0.015828002374199457,-0.9887884983182786,-2.0033194838312554,-1.4393149992305823,-2.32381454857218,-3.4354459319835584,-5.51159621007276,-1.5913737387060607,-0.7231858251445402,-0.6403306293829232,-2.737233177251646,-0.40726329442282605,-2.8214953065576225,0.5954626393194005,-1.040515289410628,-1.1109059333025613,-0.5307436962782148,-0.4426344830618376,-1.262876739431512,-1.0957813977005415,-1.2457077535228294,0.12413990195431523,-0.21433753215062978,-1.1776913099870328,-1.4935259073622191,-3.1600386906724722,0.7038185055727766,-1.2615137725603986,-2.2926861439029196,-2.7174921409571553,0.4037899272351524,0.021653586581372508,-1.1975642463013045,-0.9876893314867345,-1.2739123744201848,-0.39906350985952344,-2.2770120248851384,-1.2847941260524536,-1.2262305172679149,-2.2425861197212527,-2.2766822748356716,-2.2588098221548094,-3.1009035151355278,-1.9835344808635114,-3.2216579832487042,0.5547055332058335,-0.7564905801402517,-0.8067225043417068,-2.950141792521272,0.13372463672536128,-3.116973334212666,-3.950845259293459,1.0961770977598988,-2.2492470707203935,-1.8639671129283997,-1.3214403482160506,-0.8396755259513284,-2.019653102947963,-0.9007452351117848,-1.7211193915012473,-0.26894414034162395,0.6491019806986316,-1.6732836509925448,-2.7652839147925903,-1.5995515399327331,-0.0351073885994424,0.18846314493614358,-2.241047286157091,-0.32517751544329343,-2.4527028512387616,-1.8178680560135447,-0.8146145221921799,-1.61784167600959,-0.8573721119391564,-1.4094836114225373,0.2778034250038459,-1.748994262349143,0.058453692101387844,-1.056057508408628,-0.3330255666204991,0.1929037789355661,-0.5388555474950039,-1.3937655257314958,-0.10409109894699498,-2.5820308206379536,-1.1914528787179322,-0.8259799072303196,0.3189562311767702,-1.9005913517553736,-0.6004748400712216,-1.0178724526808622,0.2738464244103014,-1.3396205676097495,-0.30677746268328576,0.6261953439292967,-3.3439512849260282,0.9301589395238423,-1.1814284772142756,-3.2359251687221118,-1.0692475103871288,-0.33148673305634446,-0.4368748488645622,-0.26426168963924823,-2.473125370968802,-1.2481918705621098,0.46872870364263974,-1.9894699817538282,-2.399261359889209,-3.3017872452680876,-1.9098023698036855,-0.7370133438853372,-4.99762579964387,-0.6627975994196404,-1.202818263756079,-4.376706456505964,1.318450614434262,-0.03066675460001278,-0.02563257051155432,-2.2962914111103814,-2.9563630767877953,-0.27943019191452834,-0.38294972410912465,-2.0569808085471237,-1.844357976653697,-0.9712897623601364,0.06016839235859095,-0.26041460572885455,-1.8416100595748404,0.5453406318010963,-0.02152168656159148,0.5456483985139258,-2.8159115390533955,-1.6581591153905322,0.5014618918859526,0.24014596935522547,-0.173360592670754,-1.1101145331838467,0.22915430103981294,1.5764470531337267,-1.3238365319088103,0.6259535272263648,-3.7107212732748565,0.14878322231748342,-2.6758117347050927,-1.2358812020488443,-0.38068544043615304,-0.4333575150036282,-0.4081426278880613,-1.6673261667655908,-1.2392446525533671,-1.6175558926333835,-0.6076414078128778,0.393062058959309,0.09175844709710645,-2.7892017850469344,-0.396821209523182,-0.2922684605069392,-0.8426872430697543,-2.0127723185825204,-2.671986634131329,-1.343929301589391,-1.5075073094594345,-1.3891710083756479,1.5059025258853822,-0.19481632922244785,-2.40385587724505,-1.5431862648112755,-0.088438963265844,-0.17892237683835788,-1.1964870628063906,-1.2058299808744977,-0.2882235265668598,-3.5011101584998627,-1.5467695486821,-0.1534876563564822,-1.7992042032139608,1.0980676647101504,-2.238607135791071,-0.5123216601815841,-0.6735034843588537,-2.7792433335531683,-1.7324627932027568,-0.9061971025962379,-0.5276880124865357,0.027984787531053712,-0.47484007122601213,-1.371100705665107,-0.6978610213458154,-0.2674932401239829,-0.5336015300402295,1.5723361691837638,-0.017454769284881877,-2.025874387214486,-0.3640000879333414,-4.645057046758559,-1.499835124975263,-1.8509749609795776,-1.4224757633713594,-0.05733254193321358,-0.09987029831388128,-2.048781023983814,-3.8196926729538987,-1.0618171426059035,-1.8213194398645811,-0.7408384444591007,-2.726813075688632,-0.6200839763459314,-1.2627008727384634,0.4120556618083526,-1.2755391413308743],\"xaxis\":\"x\",\"yaxis\":\"y\",\"type\":\"histogram\"},{\"alignmentgroup\":\"True\",\"hovertemplate\":\"mean=%{x}<extra></extra>\",\"legendgroup\":\"\",\"marker\":{\"color\":\"#636efa\"},\"name\":\"\",\"notched\":true,\"offsetgroup\":\"\",\"showlegend\":false,\"x\":[-3.117808701004641,-2.3784431400998045,1.176152476422871,-0.9878871815164132,-1.6162588757721608,0.35791070368660627,0.5158829607157784,0.5505067159093429,-0.5800962870144417,-0.2866407263294377,0.031436171382090095,-0.7675921651388222,-0.38591747455429015,-0.16916177537426336,0.018312119413486982,0.23056123458418654,-1.0116951350876064,-0.9342258568005448,0.310206863197692,0.3991514432060512,-1.8582514454043846,0.3887533249796675,-3.2731209743014844,-0.4556046516740295,-0.835124975268748,-0.3891490250390248,-0.6077733078326659,-0.9510870759963908,-2.4222119633317902,-2.2845742926861448,0.7511266460023265,0.21141374837873173,-0.5823825540240506,-1.97792873002264,0.36252720437907726,-3.0369539888764336,-2.020268636373629,-1.0007474334454542,1.424344346984988,-5.1212600848556775,-2.709468223086901,-1.6913099870298325,-0.7587548638132304,-2.1946404625294065,-2.308755962980058,-1.0547385082107752,-1.858779045483523,-1.5271384290707672,-0.18699026138187236,-0.1343401701510274,1.211083998329265,-1.7564685968036287,-0.35542658664731874,-0.6534986480248008,-1.542153047989622,-0.7686693486337361,-2.326606432324297,-3.6154015256435628,-0.023280353492054928,-1.5810415704895675,-0.08243751236562957,-2.5758095363714304,-1.5299522961595144,-0.947833542175033,-0.5941436391215476,0.38136692387170257,-2.7147442238782986,0.03660225549033669,-3.4184528127679172,-6.87676141484755,-0.2858713095473675,-0.2342764184747992,-3.1583899404251596,1.2397722526325055,-0.2233946668425304,-3.182439710699292,-0.44314009980435287,-1.5693244520653309,-1.629382927740771,0.5729517026094229,-2.4622436193365402,-0.3613181208643823,-1.0868121963551616,-0.3412473345204319,-1.0331069049660329,-2.617248125920547,-2.4465914836553893,-0.8923256171821734,-0.8968102178548705,-1.0614654092198066,-0.6126755919013362,-0.8879509331926414,-2.150322055881638,0.5555189166611711,-1.762579964386994,0.420607179757738,-1.662138099320714,-1.5807557871133682,-1.159906790652684,-2.5191364945371433,-2.3413352678669597,-3.5598056673041825,-3.309987029831383,-2.047088307063248,-0.9915583987337584,-3.6666666666666714,-2.6809998021499695,-0.10398118226384412,-1.3463914352920483,-0.17876849348193957,-1.3593835872408704,-1.5463078986128522,-3.4798302886412102,-0.5230715117940576,0.2232407834861192,-3.811602805073754,-2.3483919189254507,0.40829651124447963,0.29560992767482475,-1.9143749038229032,-0.3022269120006982,-1.0266438039965706,-1.499461408252543,0.8389720591791487,1.0328431049264637,0.5539361164237491,1.9792257468838628,-2.0370419222229543,-1.107102816065428,0.8247928070522548,-0.629382927740771,-2.3361032337488155,-0.6224581767020609,-1.3795642902679717,0.055002308250344356,-0.5097496097957759,-1.6181274593857822,-0.9501857591945324,-3.743322561498381,-0.5128492602607224,-2.8290355910220057,-0.057090725230274586,-1.0683242102486332,0.5035503088658757,-0.6179515926927408,-2.908637252962258,-1.2044889973400146,-3.012024885137066,0.33564158367956765,-2.5722042691639686,-0.19158477873772028,-0.5637846512343643,-2.1281848358943876,-2.119853151311304,-1.4882718899074519,0.8500736441777121,-0.6629514827760588,-0.8012266701840005,-0.5220822616456715,-0.2204928664072625,-1.3955461759985894,-2.1475961221394186,-1.2066213809932052,-0.7872892347600526,-1.159884807316054,-0.6116423750796898,-1.5478906988502743,-1.5102991932115444,-2.1572907735936155,0.1201829013607707,-1.4767086548396335,0.7186352744619597,-2.0893622634043396,0.13040515289410592,-0.2789245751720202,-2.359471520587398,-0.5995735232693633,-3.0102662182066027,-3.205500230825031,-0.13266943656708463,-3.0097606014640874,-0.15117940601024316,-0.8049638374112433,0.8491503440392165,1.2373760689397457,-2.0424937897074003,-2.324671898700778,-1.8602079623645267,-0.33344325001648656,0.7224164083624629,-1.6679197168546267,-1.5428565147618158,-0.9588911605003361,-1.7314515597177333,-1.5250280287541997,-0.2152608322891183,-2.2228011167535016,-1.866912880036935,-0.8935786673701287,-2.9566268768273645,-0.6093341247334507,0.5346567301985061,0.011013651652049816,-1.7465101453098555,-1.3763767064565045,0.5430543647914945,-0.5813493372024041,-1.7183714744223906,-0.8535909780386461,-2.0034294005144133,-3.8346193585262327,-1.3704851722394409,-0.23078106795049536,-1.1106860999362453,-0.9201125546835556,-1.7845633010178261,-1.3105366132471588,-1.1817582272637353,-0.1333948866759016,1.3426322847281824,-0.8428631097628028,-0.49077799028336244,-1.3827079074061857,-0.8663632966211594,-1.4412934995273616,-0.9325990898898624,0.09208819714656613,-0.848358943920509,-0.1684143419288162,-0.9083075029127912,1.0403833893908399,-0.5192024445470338,0.24274000307767096,-1.0546285915276172,0.6715469673987116,-0.7376948273208939,0.13031721954758524,-0.7741431994548194,-0.39282024225637,-0.7735716327024136,-0.33797181736243687,-0.16280859108795198,-1.5871089713996795,0.507089626063447,-3.4243883136582483,-4.441755149596602,-2.2948405108927403,0.25001648750247796,-1.2938732440809915,-0.3414012178768502,-2.9367539405130856,-3.311921563454895,-1.6286574776319611,0.7399151443206051,-0.9699487788256462,0.14759612213941153,-1.098749148145707,-0.6453208467981284,-1.4373145155971798,-0.33533381696674525,-1.8387082591395725,0.3561080700828825,-2.3331794499769174,-0.42454219701466656,0.06014640902196078,-2.362747037745386,-1.6364395787992763,-0.31282288025676763,-1.5874387214491463,-0.8071401877376942,-1.774231132801333,-1.7658334982083588,0.8338939084174228,0.18769372815405916,-1.1889687616786446,-0.286794609685856,-0.9687177119743211,0.862911912770123,0.2298797511486299,-0.3332673833234452,-1.1196772846182625,-0.7642726813075669,-1.0417023895886928,-0.6145002088416973,-1.2896744267845008,-2.8168568225285213,-3.473630987711317,0.5306117962584409,-1.7023676053551426,-1.7211413748378774,0.2658664732133005,-3.39730484292906,0.7091384730374415,-2.641979379630243,-0.5596298006111411,-2.3332234166501777,-2.3962716261074135,-0.01833410275011005,0.4586163687924554,-3.7105893732550754,-0.7825848007210539,-1.3722438391699043,-1.7454329618149487,-2.8418958429510397,-0.19373914572754103,-0.6857042361889683,-5.715733474026685,-1.5461979819297014,-2.0437468398953555,-0.18072501044208167,-2.78357405086944,0.12211743498428262,-0.20453296401328203,-0.2455318868297809,-0.28338719250808,-0.5161907274286079,-2.5109147266372105,-1.6882982699114066,-2.5772824199256945,-1.8096902547868652,-0.26573457319351945,-1.187671744817429,-3.641012112818487,0.753500846358456,-1.544835015058581,0.3857416078612417,-6.4923388071841615,-0.8287278243091691,-0.6694585504187813,1.0017586669304706,0.28270570907252335,-0.09600123106685032,-2.0926157972257045,-1.2257249005254067,-0.17454769284882587,0.10521224911516924,-0.5301061795159256,-1.0957374310272812,-0.0241596869572831,-2.76974653212865,-1.7408164611224706,-1.6640506496075957,-3.5532326496515694,0.40677966101694807,0.041218756182814786,-0.2642836729758855,-0.7226362417287717,0.7143705071555786,0.7455428784980995,1.0106179515926925,-0.9087911363186691,-3.138319154081209,0.23823341906835083,-2.633603728373892,-0.3566356701620208,0.34821605223240937,-0.9682340785684431,0.014750818879292638,-2.216074215744463,-0.22891248433687394,-0.9472180087493669,-0.5766668865000284,-0.04086702279672494,-0.3907318252764398,0.9967904328519026,-0.5182351777352778,-0.5780078700345115,-1.013717602057639,-1.3598892039833785,-0.18962826177757108,-1.9780826133790583,-2.3522170194992214,-0.21433753215062978,-2.092286047176245,-0.51122249335004,0.9153641539712893,-3.324627932027525,-0.871771197432345,-2.5764250697970965,-0.8618127459385789,-0.5861636879245538,1.117303084262133,0.09019763019631455,-0.7945437358482295,1.571742619094728,-2.560838884125829,0.17228340917584006,-1.162434874365232,-0.9248829387324378,-2.250654004264767,-0.337861900679286,-1.6938820374156407,0.5815911539053431,-1.6981468047220218,-1.7362878937765203,-2.232583701554219,-1.6481347138868756,-2.007870034513843,-0.5920991888148777,0.017103035898784924,-1.7082591395722062,-2.074369627822108,-1.3196816812855872,-2.4626173360592674,-1.0142452021367774,1.0712699773571686,0.41759546263931924,-0.7586669304667097,-1.7723185825144512,-0.6788014684868884,-2.407878827848485,-3.764998131416391,-0.06874189364462069,2.0236101035415146,-0.3497329024599338,-0.9197388379608284,-2.2792982918947473,-2.1088834663325216,-3.4310932313306495,-2.4356217986766,-1.3560421200729849,-1.6212930598606263,0.04922069071643165,0.14601332190199656,-2.1724812592055187,-0.22930818439623124,2.3131965969794948,-0.6235133768603376,-0.8856426828464024,-0.41267119523401163,-2.357009386884741,-2.900657301765257,-1.818263756072902,-0.8721229308184348,-1.497878608015121,-2.795576952669876,-0.49374574072852795,-0.7263514256193773,-2.1606762074347685,-2.8058431708764786,-0.12992151948822794,-0.2595792389368867,-0.3812789905251819,0.07918397854426473,-1.6294268944140384,-2.235133768603397,0.08008529534612308,-1.7138648904130633,-2.4403482160522287,0.5896590384488576,-2.001956516960142,-0.6031128404669275,-0.6896612367825199,-1.2699993404999006,0.004440633999429622,-0.6334278616808433,-1.33896106751083,-1.4099892281650526,-2.389676625118163,0.15931324056364815,-1.126272285607513,-2.468992503682209,-0.45549473499087867,-1.9008331684583055,-1.958253643738047,0.07085229396117398,-2.6336696783837823,-3.044999890083318,-2.6905625535843853,-0.5991558398733758,0.5317329464266081,-1.8489744773461751,-0.4902064235309638,-0.7126997735716358,-0.6364835454725366,-1.9846776143683087,-1.2775396249642768,-0.11923761788564491,-2.327551715799423,-0.9910527819912502,0.05429884147816466,-1.266042339906349,-1.7815296005627772,-2.1097408164611196,-1.867044780056716,-2.1262283189342455,-2.86157092923564,-0.5215766449031634,-1.7961045527490214,-2.60511332410033,-0.901118951834512,0.12053463474686765,-0.904768185715227,-0.3134603970190639,-0.6147200422080061,-0.7429048781024008,-1.8468640770296147,0.07773307832663079,-0.21671173250675935,-4.000593550089036,0.04453824001407014,-1.086856163028422,-3.882784849084395,-2.937413440612019,-0.809778188133393,-1.77009826551474,-0.8216272065774106,-1.3946008925234707,-1.1535536063663727,-0.00030776671282950474,-2.2827057090725233,-1.757963463694523,0.027764954164744893,-2.4294224977467067,-0.4075270944624023,0.19534392930158617,1.7175361076304227,0.448987667348149,-1.275275341291298,-2.306579612653607,-0.6663149332805745,-0.7977972696695943,0.039789839301811014,-2.6048275407241306,0.021147969838864356,0.08496559607817744,-2.7479390621908593,-3.2156125656752224,-1.0183341027501172,-1.8475675438017944,-3.1198311679746737,-2.12044670140034,-1.8341357251203547,-0.9800391303392004,-4.291147310338758,-0.5240167952691834,-0.16291850777110994,0.9689595286772601,-1.9945701158521842,-0.04126272285607513,-1.0407131394402995,-0.26918595704456294,0.46598078656378306,0.12629426894413598,0.0992987315614755,0.44995493415991206,-0.38624722460374983,-0.6162368924355306,-1.3396425509463867,-3.335311833630108,0.020158719690478222,-1.19639912945987,0.38802787487085055,0.801292620193891,-0.04952845742926826,0.40156961023544113,-2.4933280573325405,-0.004506584009320136,-0.6896172701092596,-1.7465980786563762,0.6007386401107908,-0.4807096221064384,-2.0336345050451783,1.005825584207173,-0.9956472993470982,-2.4565719184857855,-2.2691419903713026,-0.6710193673195732,-1.6114005583767508,0.14482622172393889,-0.6280859108795553,-0.5526390995625334,-2.232297918178027,-0.2965771944865807,1.2925542438831314,-1.044780056717002,-2.5736112027083493,-0.2495768207698532,0.8979973180329281,0.24893930400756403,-2.8003913033920327,0.1963331794499794,0.4213106465299319,-1.5895491217656996,-0.28457429268614476,-0.9746971795379125,-4.366506188309259,-2.6459803468970478,-0.12128206819230769,-4.039745872628551,-2.311921563454902,-1.0767438281782447,-1.112444766866716,0.7779243333553154,0.6933984040097627,-2.9623205610147494,-2.919299171228211,0.23220998483149913,-1.2755391413308743,-1.7700542988414796,-0.9313240563652769,-0.8597682956319161,-2.8458748268812215,-1.034821605223243,-0.9331706566422682,0.09503396425509436,-0.013058101958712598,0.3556244366769974,-1.2077425311613794,-0.048781023983821115,-1.7524676295368096,0.7033128888302684,-1.8464463936336202,-0.054760491547405366,-2.259227505550797,-2.407637011145553,-1.6772406515860965,-0.3799599903273361,0.6854404361493991,-0.23882696915737966,-5.207588647804968,-0.5690386686891316,-1.1202708347072914,-2.275649058014025,-0.4545934181890132,-3.3196157312756966,-1.3454681351535527,-4.043351139836005,-3.256919255204558,-1.4516256677438477,-0.9206621380993241,-0.21468926553672674,-0.6542680648068782,-0.8720349974719142,-3.2339246850887022,-2.5538701664138586,-0.41185781177866687,-1.5948690892303645,-2.8894238167469055,-1.7216469915803785,-0.6081030578821256,-0.2701752071929491,-1.30545846248544,-2.7227681417485528,-4.500450658400936,-2.7086548396315564,-1.4829958891160473,-1.5355140803271112,-1.7577875970014745,-2.2093253313988015,1.0283145375805134,-0.7444437116665554,-1.3661104882499089,-0.7619644309613349,-0.36802303853679064,-0.6516080810745422,-1.5959682560619015,-1.3137901470685236,-1.3870166413858271,-3.4330717316274217,-1.992107982149527,-0.6808019521202979,0.7298687594803113,-1.2994350282485883,-2.9259601222273517,0.23447426850447783,-0.7781221833849941,-0.19184857877728945,-1.2497087207896413,-1.898810701488273,-0.5591022005319957,-0.6016179735760332,0.41526522895645,-1.4870628063927498,0.18433027764954346,-1.976829563191103,-0.9083514695860515,-3.6375387456308133,-0.6367253621754685,-1.321594231572469,0.8139770054298836,-1.7645584646837662,1.1329332366066538,0.06128954252676522,-0.6012882235265664,-1.0034294005144062,0.5710171689859038,-0.1786805601354189,-2.887797049836223,0.23992613598891666,0.4711248873353995,-3.4051528941062656,-3.4200575963419695,-0.1598188573061563,-2.255116621600827,-0.7044120556618054,-1.2345841851876287,-2.8133834553408548,-0.1996966299544951,-1.022554903383238,-0.8500516608410891,0.4392710325573148,-2.7014882718899074,-2.9960429994064555,-1.5288311459913402,-3.133219019982853,1.13840708742773,-2.6193585262371073,-3.0883730132559535,-0.03383235507484983,0.3978324430081983,-0.999758183297061,-0.585218404449428,-1.8125261052122426,-3.493635824045377,-1.3559761700630943,-2.9324671898700814,-0.8482050605640907,-0.18167029391720746,1.4805117720767669,-2.2580843720459853,-2.3812130405152843,0.05003407417177641,-0.2643056563125157,-3.040295456044312,-2.5007364417771356,0.12029281804392156,1.5201257446855294,-3.539580997603821,-1.1452439051199192,-1.8909626503110601,-2.690892303633845,-0.569566268768277,-0.7849590010771834,-1.4205632130844847,-2.4774121216118132,-0.8248147903888849,-1.2797379586273578,-1.9601661940249286,-0.1125986502231342,-0.47090505396909066,-1.6501571808569082,-0.12708566906285057,-0.8179559893600654,-2.9475257754621964,-1.417199762579962,0.492536657213833,-0.29567587768471526,-1.0007694167820773,-0.9073622194376654,-1.2451361867704307,-0.7328804765987371,-2.433973048429287,0.10433291564994107,-0.6576974653212844,-1.9845237310118904,-0.8755083646595878,-1.017234935918573,-2.099936248323772,-2.7236035085405277,-3.6692607003891027,-1.5191364945371362,-1.273077007628217,-1.505133109103305,0.8828947657675457,-0.6595440655982827,-3.427290114093516,-4.020554419749828,-0.631449361384071,-2.3914133087119964,-1.9673987117764753,-0.5966497394974581,-2.4367869155180415,-2.1427158214073714,-0.3158126140385633,-2.1004858317395403,-0.31390006375167445,1.386401107960161,0.5961441227549571,-2.378157356723605,-3.6380663457099516,-1.3623073710127755,-0.5042757589746998,1.2102925982105575,-1.9373035239288612,-1.3667919716854655,0.03552507199542987,-0.522390028358501,-1.2879597265272977,0.19664094616280892,0.015828002374199457,-0.9887884983182786,-2.0033194838312554,-1.4393149992305823,-2.32381454857218,-3.4354459319835584,-5.51159621007276,-1.5913737387060607,-0.7231858251445402,-0.6403306293829232,-2.737233177251646,-0.40726329442282605,-2.8214953065576225,0.5954626393194005,-1.040515289410628,-1.1109059333025613,-0.5307436962782148,-0.4426344830618376,-1.262876739431512,-1.0957813977005415,-1.2457077535228294,0.12413990195431523,-0.21433753215062978,-1.1776913099870328,-1.4935259073622191,-3.1600386906724722,0.7038185055727766,-1.2615137725603986,-2.2926861439029196,-2.7174921409571553,0.4037899272351524,0.021653586581372508,-1.1975642463013045,-0.9876893314867345,-1.2739123744201848,-0.39906350985952344,-2.2770120248851384,-1.2847941260524536,-1.2262305172679149,-2.2425861197212527,-2.2766822748356716,-2.2588098221548094,-3.1009035151355278,-1.9835344808635114,-3.2216579832487042,0.5547055332058335,-0.7564905801402517,-0.8067225043417068,-2.950141792521272,0.13372463672536128,-3.116973334212666,-3.950845259293459,1.0961770977598988,-2.2492470707203935,-1.8639671129283997,-1.3214403482160506,-0.8396755259513284,-2.019653102947963,-0.9007452351117848,-1.7211193915012473,-0.26894414034162395,0.6491019806986316,-1.6732836509925448,-2.7652839147925903,-1.5995515399327331,-0.0351073885994424,0.18846314493614358,-2.241047286157091,-0.32517751544329343,-2.4527028512387616,-1.8178680560135447,-0.8146145221921799,-1.61784167600959,-0.8573721119391564,-1.4094836114225373,0.2778034250038459,-1.748994262349143,0.058453692101387844,-1.056057508408628,-0.3330255666204991,0.1929037789355661,-0.5388555474950039,-1.3937655257314958,-0.10409109894699498,-2.5820308206379536,-1.1914528787179322,-0.8259799072303196,0.3189562311767702,-1.9005913517553736,-0.6004748400712216,-1.0178724526808622,0.2738464244103014,-1.3396205676097495,-0.30677746268328576,0.6261953439292967,-3.3439512849260282,0.9301589395238423,-1.1814284772142756,-3.2359251687221118,-1.0692475103871288,-0.33148673305634446,-0.4368748488645622,-0.26426168963924823,-2.473125370968802,-1.2481918705621098,0.46872870364263974,-1.9894699817538282,-2.399261359889209,-3.3017872452680876,-1.9098023698036855,-0.7370133438853372,-4.99762579964387,-0.6627975994196404,-1.202818263756079,-4.376706456505964,1.318450614434262,-0.03066675460001278,-0.02563257051155432,-2.2962914111103814,-2.9563630767877953,-0.27943019191452834,-0.38294972410912465,-2.0569808085471237,-1.844357976653697,-0.9712897623601364,0.06016839235859095,-0.26041460572885455,-1.8416100595748404,0.5453406318010963,-0.02152168656159148,0.5456483985139258,-2.8159115390533955,-1.6581591153905322,0.5014618918859526,0.24014596935522547,-0.173360592670754,-1.1101145331838467,0.22915430103981294,1.5764470531337267,-1.3238365319088103,0.6259535272263648,-3.7107212732748565,0.14878322231748342,-2.6758117347050927,-1.2358812020488443,-0.38068544043615304,-0.4333575150036282,-0.4081426278880613,-1.6673261667655908,-1.2392446525533671,-1.6175558926333835,-0.6076414078128778,0.393062058959309,0.09175844709710645,-2.7892017850469344,-0.396821209523182,-0.2922684605069392,-0.8426872430697543,-2.0127723185825204,-2.671986634131329,-1.343929301589391,-1.5075073094594345,-1.3891710083756479,1.5059025258853822,-0.19481632922244785,-2.40385587724505,-1.5431862648112755,-0.088438963265844,-0.17892237683835788,-1.1964870628063906,-1.2058299808744977,-0.2882235265668598,-3.5011101584998627,-1.5467695486821,-0.1534876563564822,-1.7992042032139608,1.0980676647101504,-2.238607135791071,-0.5123216601815841,-0.6735034843588537,-2.7792433335531683,-1.7324627932027568,-0.9061971025962379,-0.5276880124865357,0.027984787531053712,-0.47484007122601213,-1.371100705665107,-0.6978610213458154,-0.2674932401239829,-0.5336015300402295,1.5723361691837638,-0.017454769284881877,-2.025874387214486,-0.3640000879333414,-4.645057046758559,-1.499835124975263,-1.8509749609795776,-1.4224757633713594,-0.05733254193321358,-0.09987029831388128,-2.048781023983814,-3.8196926729538987,-1.0618171426059035,-1.8213194398645811,-0.7408384444591007,-2.726813075688632,-0.6200839763459314,-1.2627008727384634,0.4120556618083526,-1.2755391413308743],\"xaxis\":\"x2\",\"yaxis\":\"y2\",\"type\":\"box\"}],                        {\"template\":{\"data\":{\"histogram2dcontour\":[{\"type\":\"histogram2dcontour\",\"colorbar\":{\"outlinewidth\":0,\"ticks\":\"\"},\"colorscale\":[[0.0,\"#0d0887\"],[0.1111111111111111,\"#46039f\"],[0.2222222222222222,\"#7201a8\"],[0.3333333333333333,\"#9c179e\"],[0.4444444444444444,\"#bd3786\"],[0.5555555555555556,\"#d8576b\"],[0.6666666666666666,\"#ed7953\"],[0.7777777777777778,\"#fb9f3a\"],[0.8888888888888888,\"#fdca26\"],[1.0,\"#f0f921\"]]}],\"choropleth\":[{\"type\":\"choropleth\",\"colorbar\":{\"outlinewidth\":0,\"ticks\":\"\"}}],\"histogram2d\":[{\"type\":\"histogram2d\",\"colorbar\":{\"outlinewidth\":0,\"ticks\":\"\"},\"colorscale\":[[0.0,\"#0d0887\"],[0.1111111111111111,\"#46039f\"],[0.2222222222222222,\"#7201a8\"],[0.3333333333333333,\"#9c179e\"],[0.4444444444444444,\"#bd3786\"],[0.5555555555555556,\"#d8576b\"],[0.6666666666666666,\"#ed7953\"],[0.7777777777777778,\"#fb9f3a\"],[0.8888888888888888,\"#fdca26\"],[1.0,\"#f0f921\"]]}],\"heatmap\":[{\"type\":\"heatmap\",\"colorbar\":{\"outlinewidth\":0,\"ticks\":\"\"},\"colorscale\":[[0.0,\"#0d0887\"],[0.1111111111111111,\"#46039f\"],[0.2222222222222222,\"#7201a8\"],[0.3333333333333333,\"#9c179e\"],[0.4444444444444444,\"#bd3786\"],[0.5555555555555556,\"#d8576b\"],[0.6666666666666666,\"#ed7953\"],[0.7777777777777778,\"#fb9f3a\"],[0.8888888888888888,\"#fdca26\"],[1.0,\"#f0f921\"]]}],\"heatmapgl\":[{\"type\":\"heatmapgl\",\"colorbar\":{\"outlinewidth\":0,\"ticks\":\"\"},\"colorscale\":[[0.0,\"#0d0887\"],[0.1111111111111111,\"#46039f\"],[0.2222222222222222,\"#7201a8\"],[0.3333333333333333,\"#9c179e\"],[0.4444444444444444,\"#bd3786\"],[0.5555555555555556,\"#d8576b\"],[0.6666666666666666,\"#ed7953\"],[0.7777777777777778,\"#fb9f3a\"],[0.8888888888888888,\"#fdca26\"],[1.0,\"#f0f921\"]]}],\"contourcarpet\":[{\"type\":\"contourcarpet\",\"colorbar\":{\"outlinewidth\":0,\"ticks\":\"\"}}],\"contour\":[{\"type\":\"contour\",\"colorbar\":{\"outlinewidth\":0,\"ticks\":\"\"},\"colorscale\":[[0.0,\"#0d0887\"],[0.1111111111111111,\"#46039f\"],[0.2222222222222222,\"#7201a8\"],[0.3333333333333333,\"#9c179e\"],[0.4444444444444444,\"#bd3786\"],[0.5555555555555556,\"#d8576b\"],[0.6666666666666666,\"#ed7953\"],[0.7777777777777778,\"#fb9f3a\"],[0.8888888888888888,\"#fdca26\"],[1.0,\"#f0f921\"]]}],\"surface\":[{\"type\":\"surface\",\"colorbar\":{\"outlinewidth\":0,\"ticks\":\"\"},\"colorscale\":[[0.0,\"#0d0887\"],[0.1111111111111111,\"#46039f\"],[0.2222222222222222,\"#7201a8\"],[0.3333333333333333,\"#9c179e\"],[0.4444444444444444,\"#bd3786\"],[0.5555555555555556,\"#d8576b\"],[0.6666666666666666,\"#ed7953\"],[0.7777777777777778,\"#fb9f3a\"],[0.8888888888888888,\"#fdca26\"],[1.0,\"#f0f921\"]]}],\"mesh3d\":[{\"type\":\"mesh3d\",\"colorbar\":{\"outlinewidth\":0,\"ticks\":\"\"}}],\"scatter\":[{\"fillpattern\":{\"fillmode\":\"overlay\",\"size\":10,\"solidity\":0.2},\"type\":\"scatter\"}],\"parcoords\":[{\"type\":\"parcoords\",\"line\":{\"colorbar\":{\"outlinewidth\":0,\"ticks\":\"\"}}}],\"scatterpolargl\":[{\"type\":\"scatterpolargl\",\"marker\":{\"colorbar\":{\"outlinewidth\":0,\"ticks\":\"\"}}}],\"bar\":[{\"error_x\":{\"color\":\"#2a3f5f\"},\"error_y\":{\"color\":\"#2a3f5f\"},\"marker\":{\"line\":{\"color\":\"#E5ECF6\",\"width\":0.5},\"pattern\":{\"fillmode\":\"overlay\",\"size\":10,\"solidity\":0.2}},\"type\":\"bar\"}],\"scattergeo\":[{\"type\":\"scattergeo\",\"marker\":{\"colorbar\":{\"outlinewidth\":0,\"ticks\":\"\"}}}],\"scatterpolar\":[{\"type\":\"scatterpolar\",\"marker\":{\"colorbar\":{\"outlinewidth\":0,\"ticks\":\"\"}}}],\"histogram\":[{\"marker\":{\"pattern\":{\"fillmode\":\"overlay\",\"size\":10,\"solidity\":0.2}},\"type\":\"histogram\"}],\"scattergl\":[{\"type\":\"scattergl\",\"marker\":{\"colorbar\":{\"outlinewidth\":0,\"ticks\":\"\"}}}],\"scatter3d\":[{\"type\":\"scatter3d\",\"line\":{\"colorbar\":{\"outlinewidth\":0,\"ticks\":\"\"}},\"marker\":{\"colorbar\":{\"outlinewidth\":0,\"ticks\":\"\"}}}],\"scattermapbox\":[{\"type\":\"scattermapbox\",\"marker\":{\"colorbar\":{\"outlinewidth\":0,\"ticks\":\"\"}}}],\"scatterternary\":[{\"type\":\"scatterternary\",\"marker\":{\"colorbar\":{\"outlinewidth\":0,\"ticks\":\"\"}}}],\"scattercarpet\":[{\"type\":\"scattercarpet\",\"marker\":{\"colorbar\":{\"outlinewidth\":0,\"ticks\":\"\"}}}],\"carpet\":[{\"aaxis\":{\"endlinecolor\":\"#2a3f5f\",\"gridcolor\":\"white\",\"linecolor\":\"white\",\"minorgridcolor\":\"white\",\"startlinecolor\":\"#2a3f5f\"},\"baxis\":{\"endlinecolor\":\"#2a3f5f\",\"gridcolor\":\"white\",\"linecolor\":\"white\",\"minorgridcolor\":\"white\",\"startlinecolor\":\"#2a3f5f\"},\"type\":\"carpet\"}],\"table\":[{\"cells\":{\"fill\":{\"color\":\"#EBF0F8\"},\"line\":{\"color\":\"white\"}},\"header\":{\"fill\":{\"color\":\"#C8D4E3\"},\"line\":{\"color\":\"white\"}},\"type\":\"table\"}],\"barpolar\":[{\"marker\":{\"line\":{\"color\":\"#E5ECF6\",\"width\":0.5},\"pattern\":{\"fillmode\":\"overlay\",\"size\":10,\"solidity\":0.2}},\"type\":\"barpolar\"}],\"pie\":[{\"automargin\":true,\"type\":\"pie\"}]},\"layout\":{\"autotypenumbers\":\"strict\",\"colorway\":[\"#636efa\",\"#EF553B\",\"#00cc96\",\"#ab63fa\",\"#FFA15A\",\"#19d3f3\",\"#FF6692\",\"#B6E880\",\"#FF97FF\",\"#FECB52\"],\"font\":{\"color\":\"#2a3f5f\"},\"hovermode\":\"closest\",\"hoverlabel\":{\"align\":\"left\"},\"paper_bgcolor\":\"white\",\"plot_bgcolor\":\"#E5ECF6\",\"polar\":{\"bgcolor\":\"#E5ECF6\",\"angularaxis\":{\"gridcolor\":\"white\",\"linecolor\":\"white\",\"ticks\":\"\"},\"radialaxis\":{\"gridcolor\":\"white\",\"linecolor\":\"white\",\"ticks\":\"\"}},\"ternary\":{\"bgcolor\":\"#E5ECF6\",\"aaxis\":{\"gridcolor\":\"white\",\"linecolor\":\"white\",\"ticks\":\"\"},\"baxis\":{\"gridcolor\":\"white\",\"linecolor\":\"white\",\"ticks\":\"\"},\"caxis\":{\"gridcolor\":\"white\",\"linecolor\":\"white\",\"ticks\":\"\"}},\"coloraxis\":{\"colorbar\":{\"outlinewidth\":0,\"ticks\":\"\"}},\"colorscale\":{\"sequential\":[[0.0,\"#0d0887\"],[0.1111111111111111,\"#46039f\"],[0.2222222222222222,\"#7201a8\"],[0.3333333333333333,\"#9c179e\"],[0.4444444444444444,\"#bd3786\"],[0.5555555555555556,\"#d8576b\"],[0.6666666666666666,\"#ed7953\"],[0.7777777777777778,\"#fb9f3a\"],[0.8888888888888888,\"#fdca26\"],[1.0,\"#f0f921\"]],\"sequentialminus\":[[0.0,\"#0d0887\"],[0.1111111111111111,\"#46039f\"],[0.2222222222222222,\"#7201a8\"],[0.3333333333333333,\"#9c179e\"],[0.4444444444444444,\"#bd3786\"],[0.5555555555555556,\"#d8576b\"],[0.6666666666666666,\"#ed7953\"],[0.7777777777777778,\"#fb9f3a\"],[0.8888888888888888,\"#fdca26\"],[1.0,\"#f0f921\"]],\"diverging\":[[0,\"#8e0152\"],[0.1,\"#c51b7d\"],[0.2,\"#de77ae\"],[0.3,\"#f1b6da\"],[0.4,\"#fde0ef\"],[0.5,\"#f7f7f7\"],[0.6,\"#e6f5d0\"],[0.7,\"#b8e186\"],[0.8,\"#7fbc41\"],[0.9,\"#4d9221\"],[1,\"#276419\"]]},\"xaxis\":{\"gridcolor\":\"white\",\"linecolor\":\"white\",\"ticks\":\"\",\"title\":{\"standoff\":15},\"zerolinecolor\":\"white\",\"automargin\":true,\"zerolinewidth\":2},\"yaxis\":{\"gridcolor\":\"white\",\"linecolor\":\"white\",\"ticks\":\"\",\"title\":{\"standoff\":15},\"zerolinecolor\":\"white\",\"automargin\":true,\"zerolinewidth\":2},\"scene\":{\"xaxis\":{\"backgroundcolor\":\"#E5ECF6\",\"gridcolor\":\"white\",\"linecolor\":\"white\",\"showbackground\":true,\"ticks\":\"\",\"zerolinecolor\":\"white\",\"gridwidth\":2},\"yaxis\":{\"backgroundcolor\":\"#E5ECF6\",\"gridcolor\":\"white\",\"linecolor\":\"white\",\"showbackground\":true,\"ticks\":\"\",\"zerolinecolor\":\"white\",\"gridwidth\":2},\"zaxis\":{\"backgroundcolor\":\"#E5ECF6\",\"gridcolor\":\"white\",\"linecolor\":\"white\",\"showbackground\":true,\"ticks\":\"\",\"zerolinecolor\":\"white\",\"gridwidth\":2}},\"shapedefaults\":{\"line\":{\"color\":\"#2a3f5f\"}},\"annotationdefaults\":{\"arrowcolor\":\"#2a3f5f\",\"arrowhead\":0,\"arrowwidth\":1},\"geo\":{\"bgcolor\":\"white\",\"landcolor\":\"#E5ECF6\",\"subunitcolor\":\"white\",\"showland\":true,\"showlakes\":true,\"lakecolor\":\"white\"},\"title\":{\"x\":0.05},\"mapbox\":{\"style\":\"light\"}}},\"xaxis\":{\"anchor\":\"y\",\"domain\":[0.0,1.0],\"title\":{\"text\":\"mean\"}},\"yaxis\":{\"anchor\":\"x\",\"domain\":[0.0,0.8316],\"title\":{\"text\":\"count\"}},\"xaxis2\":{\"anchor\":\"y2\",\"domain\":[0.0,1.0],\"matches\":\"x\",\"showticklabels\":false,\"showgrid\":true},\"yaxis2\":{\"anchor\":\"x2\",\"domain\":[0.8416,1.0],\"matches\":\"y2\",\"showticklabels\":false,\"showline\":false,\"ticks\":\"\",\"showgrid\":false},\"legend\":{\"tracegroupgap\":0},\"title\":{\"text\":\"sample of mean diff\"},\"barmode\":\"relative\"},                        {\"responsive\": true}                    ).then(function(){\n",
       "                            \n",
       "var gd = document.getElementById('d46f0b36-56b8-463c-9e83-e66d73219b2d');\n",
       "var x = new MutationObserver(function (mutations, observer) {{\n",
       "        var display = window.getComputedStyle(gd).display;\n",
       "        if (!display || display === 'none') {{\n",
       "            console.log([gd, 'removed!']);\n",
       "            Plotly.purge(gd);\n",
       "            observer.disconnect();\n",
       "        }}\n",
       "}});\n",
       "\n",
       "// Listen for the removal of the full notebook cells\n",
       "var notebookContainer = gd.closest('#notebook-container');\n",
       "if (notebookContainer) {{\n",
       "    x.observe(notebookContainer, {childList: true});\n",
       "}}\n",
       "\n",
       "// Listen for the clearing of the current output cell\n",
       "var outputEl = gd.closest('.output');\n",
       "if (outputEl) {{\n",
       "    x.observe(outputEl, {childList: true});\n",
       "}}\n",
       "\n",
       "                        })                };                });            </script>        </div>"
      ]
     },
     "metadata": {},
     "output_type": "display_data"
    }
   ],
   "source": [
    "fig = px.histogram(pd.DataFrame({'mean':sample_mean}),\n",
    "                   x='mean',\n",
    "                   title='sample of mean diff',\n",
    "                   marginal = 'box',\n",
    "                   nbins = 50)\n",
    "fig.show()"
   ]
  },
  {
   "cell_type": "code",
   "execution_count": 20,
   "id": "9258fbbc",
   "metadata": {},
   "outputs": [
    {
     "data": {
      "text/plain": [
       "0.3799015144923291"
      ]
     },
     "execution_count": 20,
     "metadata": {},
     "output_type": "execute_result"
    }
   ],
   "source": [
    "p_1 = stats.norm.cdf(\n",
    "    x = 0, \n",
    "    loc = np.mean(sample_mean), \n",
    "    scale = np.std(sample_mean)\n",
    ")\n",
    "p_2 = stats.norm.cdf(\n",
    "    x = 0, \n",
    "    loc = -np.mean(sample_mean), \n",
    "    scale = np.std(sample_mean)\n",
    ")\n",
    "p_value = min(p_1, p_2) * 2\n",
    "p_value"
   ]
  },
  {
   "cell_type": "markdown",
   "id": "370e00ef",
   "metadata": {},
   "source": [
    "### У меня не сошлось с Манна-Уитни..."
   ]
  },
  {
   "cell_type": "markdown",
   "id": "94826d29",
   "metadata": {},
   "source": [
    "## Посчитаем по удержанию в 1 день"
   ]
  },
  {
   "cell_type": "code",
   "execution_count": 46,
   "id": "b5011f5b",
   "metadata": {},
   "outputs": [
    {
     "data": {
      "text/plain": [
       "(1.7840979256519656, 0.07440775430035963)"
      ]
     },
     "execution_count": 46,
     "metadata": {},
     "output_type": "execute_result"
    }
   ],
   "source": [
    "from statsmodels.stats.weightstats import ztest as ztest\n",
    "ztest(control.retention_1, test.retention_1, value=0) "
   ]
  },
  {
   "cell_type": "code",
   "execution_count": 47,
   "id": "72e07125",
   "metadata": {},
   "outputs": [],
   "source": [
    "n1, n2 = control.shape[0], test.shape[0]\n",
    "k1_1, k2_1 = control.retention_1.sum(), test.retention_1.sum()"
   ]
  },
  {
   "cell_type": "code",
   "execution_count": 60,
   "id": "1ae1ae17",
   "metadata": {},
   "outputs": [
    {
     "data": {
      "text/plain": [
       "(44700, 45489)"
      ]
     },
     "execution_count": 60,
     "metadata": {},
     "output_type": "execute_result"
    }
   ],
   "source": [
    "n1, n2"
   ]
  },
  {
   "cell_type": "code",
   "execution_count": 61,
   "id": "c179c14d",
   "metadata": {},
   "outputs": [
    {
     "data": {
      "text/plain": [
       "(20034, 20119)"
      ]
     },
     "execution_count": 61,
     "metadata": {},
     "output_type": "execute_result"
    }
   ],
   "source": [
    "k1_1, k2_1"
   ]
  },
  {
   "cell_type": "code",
   "execution_count": 64,
   "id": "7cc3311e",
   "metadata": {},
   "outputs": [
    {
     "name": "stdout",
     "output_type": "stream",
     "text": [
      "Results are  z_score = 1.784, pvalue = 0.074\n"
     ]
    }
   ],
   "source": [
    "z_score, z_pvalue = proportion.proportions_ztest(np.array([k1_1, k2_1]), \n",
    "                                                   np.array([n1, n2]))\n",
    "print('Results are ','z_score = %.3f, pvalue = %.3f'%(z_score, z_pvalue))"
   ]
  },
  {
   "cell_type": "code",
   "execution_count": 68,
   "id": "8fdb8d6c",
   "metadata": {},
   "outputs": [
    {
     "name": "stdout",
     "output_type": "stream",
     "text": [
      "Results are  chi_score = 3.183, pvalue = 0.074\n"
     ]
    }
   ],
   "source": [
    "chisq, chi_pvalue, table = proportion.proportions_chisquare(np.array([k1_1, k2_1]), np.array([n1, n2]))\n",
    "print('Results are ','chi_score = %.3f, pvalue = %.3f'%(chisq, chi_pvalue))"
   ]
  },
  {
   "cell_type": "code",
   "execution_count": 69,
   "id": "d443eb0b",
   "metadata": {},
   "outputs": [],
   "source": [
    "es = 2  * asin(np.sqrt(k1_1/n1)) - 2 * asin(np.sqrt(k2_1/n2))"
   ]
  },
  {
   "cell_type": "code",
   "execution_count": 70,
   "id": "75ef82cc",
   "metadata": {
    "scrolled": true
   },
   "outputs": [
    {
     "data": {
      "text/plain": [
       "0.49709241390001524"
      ]
     },
     "execution_count": 70,
     "metadata": {},
     "output_type": "execute_result"
    }
   ],
   "source": [
    "#power\n",
    "zt_ind_solve_power(effect_size=es, nobs1=n1, alpha=chi_pvalue, ratio=1)"
   ]
  },
  {
   "cell_type": "markdown",
   "id": "2588b9e6",
   "metadata": {},
   "source": [
    "## Посчитаем по удержанию в 7 дней"
   ]
  },
  {
   "cell_type": "code",
   "execution_count": 56,
   "id": "e9de3cf3",
   "metadata": {
    "scrolled": true
   },
   "outputs": [],
   "source": [
    "n1, n2 = control.shape[0], test.shape[0]\n",
    "k1_7, k2_7 = control.retention_7.sum(), test.retention_7.sum()"
   ]
  },
  {
   "cell_type": "code",
   "execution_count": 57,
   "id": "cac7b6e9",
   "metadata": {},
   "outputs": [
    {
     "data": {
      "text/plain": [
       "(44700, 45489)"
      ]
     },
     "execution_count": 57,
     "metadata": {},
     "output_type": "execute_result"
    }
   ],
   "source": [
    "n1, n2"
   ]
  },
  {
   "cell_type": "code",
   "execution_count": 58,
   "id": "9eb1c329",
   "metadata": {},
   "outputs": [
    {
     "data": {
      "text/plain": [
       "(8502, 8279)"
      ]
     },
     "execution_count": 58,
     "metadata": {},
     "output_type": "execute_result"
    }
   ],
   "source": [
    "k1_7, k2_7"
   ]
  },
  {
   "cell_type": "code",
   "execution_count": 63,
   "id": "acc57f58",
   "metadata": {
    "scrolled": true
   },
   "outputs": [
    {
     "name": "stdout",
     "output_type": "stream",
     "text": [
      "Results are  z_score = 3.164, pvalue = 0.002\n"
     ]
    }
   ],
   "source": [
    "z_score, z_pvalue = proportion.proportions_ztest(np.array([k1_7, k2_7]), \n",
    "                                                   np.array([n1, n2]))\n",
    "print('Results are ','z_score = %.3f, pvalue = %.3f'%(z_score, z_pvalue))"
   ]
  },
  {
   "cell_type": "code",
   "execution_count": 74,
   "id": "b47a82bd",
   "metadata": {},
   "outputs": [
    {
     "data": {
      "text/plain": [
       "(3.1644994996802778, 0.0015534992923098888)"
      ]
     },
     "execution_count": 74,
     "metadata": {},
     "output_type": "execute_result"
    }
   ],
   "source": [
    "ztest(control.retention_7, test.retention_7, value=0) "
   ]
  },
  {
   "cell_type": "code",
   "execution_count": 71,
   "id": "ff26e00c",
   "metadata": {},
   "outputs": [],
   "source": [
    "es = 2  * asin(np.sqrt(k1_7/n1)) - 2 * asin(np.sqrt(k2_7/n2))"
   ]
  },
  {
   "cell_type": "code",
   "execution_count": 72,
   "id": "d97abeb8",
   "metadata": {},
   "outputs": [
    {
     "data": {
      "text/plain": [
       "0.9141029790092572"
      ]
     },
     "execution_count": 72,
     "metadata": {},
     "output_type": "execute_result"
    }
   ],
   "source": [
    "#power\n",
    "zt_ind_solve_power(effect_size=es, nobs1=n1, alpha=chi_pvalue, ratio=1)"
   ]
  },
  {
   "cell_type": "markdown",
   "id": "07bd7cc6",
   "metadata": {},
   "source": [
    "1) Время в раундах - сократилось. \n",
    "2) Удержание в 1й день - недостаточная мощность теста, либо продолжать, либо закончить тест. \n",
    "3) Удержание в течении 7 дней - значимо изменилось.\n",
    "\n",
    "Необходимо продолжить проведение эксперимента,"
   ]
  },
  {
   "cell_type": "code",
   "execution_count": null,
   "id": "560eba49",
   "metadata": {},
   "outputs": [],
   "source": []
  }
 ],
 "metadata": {
  "kernelspec": {
   "display_name": "Python 3 (ipykernel)",
   "language": "python",
   "name": "python3"
  },
  "language_info": {
   "codemirror_mode": {
    "name": "ipython",
    "version": 3
   },
   "file_extension": ".py",
   "mimetype": "text/x-python",
   "name": "python",
   "nbconvert_exporter": "python",
   "pygments_lexer": "ipython3",
   "version": "3.10.8"
  }
 },
 "nbformat": 4,
 "nbformat_minor": 5
}
